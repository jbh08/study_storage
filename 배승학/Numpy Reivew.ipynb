{
 "cells": [
  {
   "cell_type": "markdown",
   "metadata": {},
   "source": [
    "# Numpy 이어서 Reveiw"
   ]
  },
  {
   "cell_type": "code",
   "execution_count": 2,
   "metadata": {},
   "outputs": [],
   "source": [
    "import numpy as np"
   ]
  },
  {
   "cell_type": "markdown",
   "metadata": {},
   "source": [
    "# np.lookfor method\n",
    "- docstring에 keyword search를 하는 함수. "
   ]
  },
  {
   "cell_type": "code",
   "execution_count": 20,
   "metadata": {
    "scrolled": true
   },
   "outputs": [
    {
     "name": "stdout",
     "output_type": "stream",
     "text": [
      "Search results for 'shape'\n",
      "--------------------------\n",
      "numpy.shape\n",
      "    Return the shape of an array.\n",
      "numpy.reshape\n",
      "    Gives a new shape to an array without changing its data.\n",
      "numpy.flip\n",
      "    Reverse the order of elements in an array along the given axis.\n",
      "numpy.full\n",
      "    Return a new array of given shape and type, filled with `fill_value`.\n",
      "numpy.isin\n",
      "    Calculates `element in test_elements`, broadcasting over `element` only.\n",
      "numpy.ones\n",
      "    Return a new array of given shape and type, filled with ones.\n",
      "numpy.empty\n",
      "    Return a new array of given shape and type, without initializing entries.\n",
      "numpy.zeros\n",
      "    Return a new array of given shape and type, filled with zeros.\n",
      "numpy.resize\n",
      "    Return a new array with the specified shape.\n",
      "numpy.ndarray\n",
      "    ndarray(shape, dtype=float, buffer=None, offset=0,\n",
      "numpy.ndindex\n",
      "    An N-dimensional iterator object to index arrays.\n",
      "numpy.squeeze\n",
      "    Remove single-dimensional entries from the shape of an array.\n",
      "numpy.ma.shape\n",
      "    Return the shape of an array.\n",
      "numpy.chararray\n",
      "    chararray(shape, itemsize=1, unicode=False, buffer=None, offset=0,\n",
      "numpy.full_like\n",
      "    Return a full array with the same shape and type as a given array.\n",
      "numpy.ones_like\n",
      "    Return an array of ones with the same shape and type as a given array.\n",
      "numpy.ma.reshape\n",
      "    Returns an array containing the same data with a new shape.\n",
      "numpy.empty_like\n",
      "    Return a new array with the same shape and type as a given array.\n",
      "numpy.zeros_like\n",
      "    Return an array of zeros with the same shape and type as a given array.\n",
      "numpy.array_equal\n",
      "    True if two arrays have the same shape and elements, False otherwise.\n",
      "numpy.array_equiv\n",
      "    Returns True if input arrays are shape consistent and all elements equal.\n",
      "numpy.expand_dims\n",
      "    Expand the shape of an array.\n",
      "numpy.argpartition\n",
      "    Perform an indirect partition along the given axis using the\n",
      "numpy.broadcast_to\n",
      "    Broadcast an array to a new shape.\n",
      "numpy.ma.ones\n",
      "    Return a new array of given shape and type, filled with ones.\n",
      "numpy.ma.empty\n",
      "    Return a new array of given shape and type, without initializing entries.\n",
      "numpy.ma.where\n",
      "    Return a masked array with elements from x or y, depending on condition.\n",
      "numpy.ma.zeros\n",
      "    Return a new array of given shape and type, filled with zeros.\n",
      "numpy.ma.resize\n",
      "    Return a new masked array with the specified size and shape.\n",
      "numpy.chararray.reshape\n",
      "    Returns an array containing the same data with a new shape.\n",
      "numpy.matlib.ones\n",
      "    Matrix of ones.\n",
      "numpy.matlib.rand\n",
      "    Return a matrix of random values with given shape.\n",
      "numpy.matlib.empty\n",
      "    Return a new matrix of given shape and type, without initializing entries.\n",
      "numpy.matlib.zeros\n",
      "    Return a matrix of given shape and type, filled with zeros.\n",
      "numpy.ma.empty_like\n",
      "    Return a new array with the same shape and type as a given array.\n",
      "numpy.ma.masked_all\n",
      "    Empty masked array with all elements masked.\n",
      "numpy.ma.expand_dims\n",
      "    Expand the shape of an array.\n",
      "numpy.chararray.resize\n",
      "    Change shape and size of array in-place.\n",
      "numpy.matrix.squeeze\n",
      "    Return a possibly reshaped matrix.\n",
      "numpy.ma.fromfunction\n",
      "    Construct an array by executing a function over each coordinate.\n",
      "numpy.chararray.squeeze\n",
      "    Remove single-dimensional entries from the shape of `a`.\n",
      "numpy.ma.make_mask_none\n",
      "    Return a boolean mask of the given shape, filled with False.\n",
      "numpy.ma.masked_all_like\n",
      "    Empty masked array with the properties of an existing array.\n",
      "numpy.fv\n",
      "    Compute the future value.\n",
      "numpy.i0\n",
      "    Modified Bessel function of the first kind, order 0.\n",
      "numpy.pv\n",
      "    Compute the present value.\n",
      "numpy.abs\n",
      "    Calculate the absolute value element-wise.\n",
      "numpy.add\n",
      "    Add arguments element-wise.\n",
      "numpy.all\n",
      "    Test whether all array elements along a given axis evaluate to True.\n",
      "numpy.any\n",
      "    Test whether any array element along a given axis evaluates to True.\n",
      "numpy.cos\n",
      "    Cosine element-wise.\n",
      "numpy.dot\n",
      "    Dot product of two arrays. Specifically,\n",
      "numpy.erf\n",
      "    Calculate the error function of all elements in the input array.\n",
      "numpy.exp\n",
      "    Calculate the exponential of all elements in the input array.\n",
      "numpy.eye\n",
      "    Return a 2-D array with ones on the diagonal and zeros elsewhere.\n",
      "numpy.irr\n",
      "    Return the Internal Rate of Return (IRR).\n",
      "numpy.ix_\n",
      "    Construct an open mesh from multiple sequences.\n",
      "numpy.log\n",
      "    Natural logarithm, element-wise.\n",
      "numpy.mod\n",
      "    Return element-wise remainder of division.\n",
      "numpy.npv\n",
      "    Returns the NPV (Net Present Value) of a cash flow series.\n",
      "numpy.pad\n",
      "    Pads an array.\n",
      "numpy.pmt\n",
      "    Compute the payment against loan principal plus interest.\n",
      "numpy.ptp\n",
      "    Range of values (maximum - minimum) along an axis.\n",
      "numpy.sin\n",
      "    Trigonometric sine, element-wise.\n",
      "numpy.std\n",
      "    Compute the standard deviation along the specified axis.\n",
      "numpy.sum\n",
      "    Sum of array elements over a given axis.\n",
      "numpy.tan\n",
      "    Compute tangent element-wise.\n",
      "numpy.tri\n",
      "    An array with ones at and below the given diagonal and zeros elsewhere.\n",
      "numpy.var\n",
      "    Compute the variance along the specified axis.\n",
      "numpy.who\n",
      "    Print the NumPy arrays in the given dictionary.\n",
      "numpy.alen\n",
      "    Return the length of the first dimension of the input array.\n",
      "numpy.amax\n",
      "    Return the maximum of an array or maximum along an axis.\n",
      "numpy.amin\n",
      "    Return the minimum of an array or minimum along an axis.\n",
      "numpy.cbrt\n",
      "    Return the cube-root of an array, element-wise.\n",
      "numpy.ceil\n",
      "    Return the ceiling of the input, element-wise.\n",
      "numpy.clip\n",
      "    Clip (limit) the values in an array.\n",
      "numpy.conj\n",
      "    Return the complex conjugate, element-wise.\n",
      "numpy.cosh\n",
      "    Hyperbolic cosine, element-wise.\n",
      "numpy.diag\n",
      "    Extract a diagonal or construct a diagonal array.\n",
      "numpy.diff\n",
      "    Calculate the n-th discrete difference along the given axis.\n",
      "numpy.exp2\n",
      "    Calculate `2**p` for all `p` in the input array.\n",
      "numpy.fabs\n",
      "    Compute the absolute values element-wise.\n",
      "numpy.fmax\n",
      "    Element-wise maximum of array elements.\n",
      "numpy.fmin\n",
      "    Element-wise minimum of array elements.\n",
      "numpy.fmod\n",
      "    Return the element-wise remainder of division.\n",
      "numpy.in1d\n",
      "    Test whether each element of a 1-D array is also present in a second array.\n",
      "numpy.ipmt\n",
      "    Compute the interest portion of a payment.\n",
      "numpy.kron\n",
      "    Kronecker product of two arrays.\n",
      "numpy.less\n",
      "    Return the truth value of (x1 < x2) element-wise.\n",
      "numpy.log2\n",
      "    Base-2 logarithm of `x`.\n",
      "numpy.mean\n",
      "    Compute the arithmetic mean along the specified axis.\n",
      "numpy.modf\n",
      "    Return the fractional and integral parts of an array, element-wise.\n",
      "numpy.ndim\n",
      "    Return the number of dimensions of an array.\n",
      "numpy.poly\n",
      "    Find the coefficients of a polynomial with the given sequence of roots.\n",
      "numpy.prod\n",
      "    Return the product of array elements over a given axis.\n",
      "numpy.rint\n",
      "    Round elements of the array to the nearest integer.\n",
      "numpy.roll\n",
      "    Roll array elements along a given axis.\n",
      "numpy.sign\n",
      "    Returns an element-wise indication of the sign of a number.\n",
      "numpy.sinc\n",
      "    Return the sinc function.\n",
      "numpy.sinh\n",
      "    Hyperbolic sine, element-wise.\n",
      "numpy.size\n",
      "    Return the number of elements along a given axis.\n",
      "numpy.sort\n",
      "    Return a sorted copy of an array.\n",
      "numpy.sqrt\n",
      "    Return the non-negative square-root of an array, element-wise.\n",
      "numpy.take\n",
      "    Take elements from an array along an axis.\n",
      "numpy.tanh\n",
      "    Compute hyperbolic tangent element-wise.\n",
      "numpy.tile\n",
      "    Construct an array by repeating A the number of times given by reps.\n",
      "numpy.tril\n",
      "    Lower triangle of an array.\n",
      "numpy.array\n",
      "    Create an array.\n",
      "numpy.block\n",
      "    Assemble an nd-array from nested lists of blocks.\n",
      "numpy.dtype\n",
      "    Create a data type object.\n",
      "numpy.equal\n",
      "    Return (x1 == x2) element-wise.\n",
      "numpy.expm1\n",
      "    Calculate ``exp(x) - 1`` for all elements in the array.\n",
      "numpy.floor\n",
      "    Return the floor of the input, element-wise.\n",
      "numpy.frexp\n",
      "    Decompose the elements of x into mantissa and twos exponent.\n",
      "numpy.hypot\n",
      "    Given the \"legs\" of a right triangle, return its hypotenuse.\n",
      "numpy.inner\n",
      "    Inner product of two arrays.\n",
      "numpy.isinf\n",
      "    Test element-wise for positive or negative infinity.\n",
      "numpy.isnan\n",
      "    Test element-wise for NaN and return result as a boolean array.\n",
      "numpy.isnat\n",
      "    Test element-wise for NaT (not a time) and return result as a boolean array.\n",
      "numpy.ldexp\n",
      "    Returns x1 * 2**x2, element-wise.\n",
      "numpy.log10\n",
      "    Return the base 10 logarithm of the input array, element-wise.\n",
      "numpy.log1p\n",
      "    Return the natural logarithm of one plus the input array, element-wise.\n",
      "numpy.msort\n",
      "    Return a copy of an array sorted along the first axis.\n",
      "numpy.place\n",
      "    Change elements of an array based on conditional and input values.\n",
      "numpy.power\n",
      "    First array elements raised to powers from second array, element-wise.\n",
      "numpy.ravel\n",
      "    Return a contiguous flattened array.\n",
      "numpy.rot90\n",
      "    Rotate an array by 90 degrees in the plane specified by axes.\n",
      "numpy.stack\n",
      "    Join a sequence of arrays along a new axis.\n",
      "numpy.trace\n",
      "    Return the sum along diagonals of the array.\n",
      "numpy.trapz\n",
      "    Integrate along the given axis using the composite trapezoidal rule.\n",
      "numpy.trunc\n",
      "    Return the truncated value of the input, element-wise.\n",
      "numpy.ufunc\n",
      "    Functions that operate element by element on whole arrays.\n",
      "numpy.where\n",
      "    Return elements, either from `x` or `y`, depending on `condition`.\n",
      "numpy.append\n",
      "    Append values to the end of an array.\n",
      "numpy.arange\n",
      "    Return evenly spaced values within a given interval.\n",
      "numpy.arccos\n",
      "    Trigonometric inverse cosine, element-wise.\n",
      "numpy.arcsin\n",
      "    Inverse sine, element-wise.\n",
      "numpy.arctan\n",
      "    Trigonometric inverse tangent, element-wise.\n",
      "numpy.argmax\n",
      "    Returns the indices of the maximum values along an axis.\n",
      "numpy.argmin\n",
      "    Returns the indices of the minimum values along an axis.\n",
      "numpy.around\n",
      "    Evenly round to the given number of decimals.\n",
      "numpy.choose\n",
      "    Construct an array from an index array and a set of arrays to choose from.\n",
      "numpy.cumsum\n",
      "    Return the cumulative sum of the elements along a given axis.\n",
      "numpy.divide\n",
      "    Returns a true division of the inputs, element-wise.\n",
      "numpy.divmod\n",
      "    Return element-wise quotient and remainder simultaneously.\n",
      "numpy.dsplit\n",
      "    Split array into multiple sub-arrays along the 3rd axis (depth).\n",
      "numpy.dstack\n",
      "    Stack arrays in sequence depth wise (along third axis).\n",
      "numpy.einsum\n",
      "    einsum(subscripts, *operands, out=None, dtype=None, order='K',\n",
      "numpy.hsplit\n",
      "    Split an array into multiple sub-arrays horizontally (column-wise).\n",
      "numpy.hstack\n",
      "    Stack arrays in sequence horizontally (column wise).\n",
      "numpy.insert\n",
      "    Insert values along the given axis before the given indices.\n",
      "numpy.interp\n",
      "    One-dimensional linear interpolation.\n",
      "numpy.isreal\n",
      "    Returns a bool array, where True if input element is real.\n",
      "numpy.kaiser\n",
      "    Return the Kaiser window.\n",
      "numpy.matmul\n",
      "    Matrix product of two arrays.\n",
      "numpy.median\n",
      "    Compute the median along the specified axis.\n",
      "numpy.memmap\n",
      "    Create a memory-map to an array stored in a *binary* file on disk.\n",
      "numpy.nanmax\n",
      "    Return the maximum of an array or maximum along an axis, ignoring any\n",
      "numpy.nanmin\n",
      "    Return minimum of an array or minimum along an axis, ignoring any NaNs.\n",
      "numpy.nanstd\n",
      "    Compute the standard deviation along the specified axis, while\n",
      "numpy.nansum\n",
      "    Return the sum of array elements over a given axis treating Not a\n",
      "numpy.nanvar\n",
      "    Compute the variance along the specified axis, while ignoring NaNs.\n",
      "numpy.nditer\n",
      "    Efficient multi-dimensional iterator object to iterate over arrays.\n",
      "numpy.repeat\n",
      "    Repeat elements of an array.\n",
      "numpy.square\n",
      "    Return the element-wise square of the input.\n",
      "numpy.vsplit\n",
      "    Split an array into multiple sub-arrays vertically (row-wise).\n",
      "numpy.arccosh\n",
      "    Inverse hyperbolic cosine, element-wise.\n",
      "numpy.arcsinh\n",
      "    Inverse hyperbolic sine element-wise.\n",
      "numpy.arctan2\n",
      "    Element-wise arc tangent of ``x1/x2`` choosing the quadrant correctly.\n",
      "numpy.arctanh\n",
      "    Inverse hyperbolic tangent element-wise.\n",
      "numpy.argsort\n",
      "    Returns the indices that would sort an array.\n",
      "numpy.average\n",
      "    Compute the weighted average along the specified axis.\n",
      "numpy.cumprod\n",
      "    Return the cumulative product of elements along a given axis.\n",
      "numpy.deg2rad\n",
      "    Convert angles from degrees to radians.\n",
      "numpy.degrees\n",
      "    Convert angles from radians to degrees.\n",
      "numpy.extract\n",
      "    Return the elements of an array that satisfy some condition.\n",
      "numpy.greater\n",
      "    Return the truth value of (x1 > x2) element-wise.\n",
      "numpy.hanning\n",
      "    Return the Hanning window.\n",
      "numpy.indices\n",
      "    Return an array representing the indices of a grid.\n",
      "numpy.lexsort\n",
      "    Perform an indirect stable sort using a sequence of keys.\n",
      "numpy.maximum\n",
      "    Element-wise maximum of array elements.\n",
      "numpy.minimum\n",
      "    Element-wise minimum of array elements.\n",
      "numpy.nanmean\n",
      "    Compute the arithmetic mean along the specified axis, ignoring NaNs.\n",
      "numpy.nanprod\n",
      "    Return the product of array elements over a given axis treating Not a\n",
      "numpy.polyfit\n",
      "    Least squares polynomial fit.\n",
      "numpy.putmask\n",
      "    Changes elements of an array based on conditional and input values.\n",
      "numpy.rad2deg\n",
      "    Convert angles from radians to degrees.\n",
      "numpy.radians\n",
      "    Convert angles from degrees to radians.\n",
      "numpy.require\n",
      "    Return an ndarray of the provided type that satisfies requirements.\n",
      "numpy.signbit\n",
      "    Returns element-wise True where signbit is set (less than zero).\n",
      "numpy.spacing\n",
      "    Return the distance between x and the nearest adjacent number.\n",
      "numpy.allclose\n",
      "    Returns True if two arrays are element-wise equal within a tolerance.\n",
      "numpy.argwhere\n",
      "    Find the indices of array elements that are non-zero, grouped by element.\n",
      "numpy.bincount\n",
      "    Count number of occurrences of each value in array of non-negative ints.\n",
      "numpy.compress\n",
      "    Return selected slices of an array along given axis.\n",
      "numpy.convolve\n",
      "    Returns the discrete, linear convolution of two one-dimensional sequences.\n",
      "numpy.copysign\n",
      "    Change the sign of x1 to that of x2, element-wise.\n",
      "numpy.corrcoef\n",
      "    Return Pearson product-moment correlation coefficients.\n",
      "numpy.diagonal\n",
      "    Return specified diagonals.\n",
      "numpy.digitize\n",
      "    Return the indices of the bins to which each value in input array belongs.\n",
      "numpy.flatiter\n",
      "    Flat iterator object to iterate over arrays.\n",
      "numpy.gradient\n",
      "    Return the gradient of an N-dimensional array.\n",
      "numpy.isfinite\n",
      "    Test element-wise for finiteness (not infinity or not Not a Number).\n",
      "numpy.isneginf\n",
      "    Test element-wise for negative infinity, return result as bool array.\n",
      "numpy.isposinf\n",
      "    Test element-wise for positive infinity, return result as bool array.\n",
      "numpy.isscalar\n",
      "    Returns True if the type of `num` is a scalar type.\n",
      "numpy.meshgrid\n",
      "    Return coordinate matrices from coordinate vectors.\n",
      "numpy.moveaxis\n",
      "    Move axes of an array to new positions.\n",
      "numpy.multiply\n",
      "    Multiply arguments element-wise.\n",
      "numpy.negative\n",
      "    Numerical negative, element-wise.\n",
      "numpy.packbits\n",
      "    Packs the elements of a binary-valued array into bits in a uint8 array.\n",
      "numpy.quantile\n",
      "    Compute the `q`th quantile of the data along the specified axis.\n",
      "numpy.recarray\n",
      "    Construct an ndarray that allows field access using attributes.\n",
      "numpy.rollaxis\n",
      "    Roll the specified axis backwards, until it lies in a given position.\n",
      "numpy.subtract\n",
      "    Subtract arguments, element-wise.\n",
      "numpy.broadcast\n",
      "    Produce an object that mimics broadcasting.\n",
      "numpy.heaviside\n",
      "    Compute the Heaviside step function.\n",
      "numpy.histogram\n",
      "    Compute the histogram of a set of data.\n",
      "numpy.is_busday\n",
      "    Calculates which of the given dates are valid days, and which are not.\n",
      "numpy.isrealobj\n",
      "    Return True if x is a not complex type or an array of complex numbers.\n",
      "numpy.logaddexp\n",
      "    Logarithm of the sum of exponentiations of the inputs.\n",
      "numpy.nancumsum\n",
      "    Return the cumulative sum of array elements over a given axis treating Not a\n",
      "numpy.nanmedian\n",
      "    Compute the median along the specified axis, while ignoring NaNs.\n",
      "numpy.nextafter\n",
      "    Return the next floating-point value after x1 towards x2, element-wise.\n",
      "numpy.not_equal\n",
      "    Return (x1 != x2) element-wise.\n",
      "numpy.partition\n",
      "    Return a partitioned copy of an array.\n",
      "numpy.piecewise\n",
      "    Evaluate a piecewise-defined function.\n",
      "numpy.row_stack\n",
      "    Stack arrays in sequence vertically (row wise).\n",
      "numpy.tensordot\n",
      "    Compute tensor dot product along specified axes for arrays >= 1-D.\n",
      "numpy.transpose\n",
      "    Permute the dimensions of an array.\n",
      "numpy.vectorize\n",
      "    vectorize(pyfunc, otypes=None, doc=None, excluded=None, cache=False,\n",
      "numpy.atleast_1d\n",
      "    Convert inputs to arrays with at least one dimension.\n",
      "numpy.atleast_3d\n",
      "    View inputs as arrays with at least three dimensions.\n",
      "numpy.bitwise_or\n",
      "    Compute the bit-wise OR of two arrays element-wise.\n",
      "numpy.left_shift\n",
      "    Shift the bits of an integer to the left.\n",
      "numpy.less_equal\n",
      "    Return the truth value of (x1 =< x2) element-wise.\n",
      "numpy.logaddexp2\n",
      "    Logarithm of the sum of exponentiations of the inputs in base-2.\n",
      "numpy.logical_or\n",
      "    Compute the truth value of x1 OR x2 element-wise.\n",
      "numpy.nancumprod\n",
      "    Return the cumulative product of array elements over a given axis treating Not a\n",
      "numpy.percentile\n",
      "    Compute the qth percentile of the data along the specified axis.\n",
      "numpy.reciprocal\n",
      "    Return the reciprocal of the argument, element-wise.\n",
      "numpy.unpackbits\n",
      "    Unpacks elements of a uint8 array into a binary-valued output array.\n",
      "numpy.bitwise_and\n",
      "    Compute the bit-wise AND of two arrays element-wise.\n",
      "numpy.bitwise_not\n",
      "    Compute bit-wise inversion, or bit-wise NOT, element-wise.\n",
      "numpy.bitwise_xor\n",
      "    Compute the bit-wise XOR of two arrays element-wise.\n",
      "numpy.concatenate\n",
      "    Join a sequence of arrays along an existing axis.\n",
      "numpy.float_power\n",
      "    First array elements raised to powers from second array, element-wise.\n",
      "numpy.histogram2d\n",
      "    Compute the bi-dimensional histogram of two data samples.\n",
      "numpy.histogramdd\n",
      "    Compute the multidimensional histogram of some data.\n",
      "numpy.logical_and\n",
      "    Compute the truth value of x1 AND x2 element-wise.\n",
      "numpy.logical_not\n",
      "    Compute the truth value of NOT x element-wise.\n",
      "numpy.logical_xor\n",
      "    Compute the truth value of x1 XOR x2, element-wise.\n",
      "numpy.nanquantile\n",
      "    Compute the qth quantile of the data along the specified axis,\n",
      "numpy.right_shift\n",
      "    Shift the bits of an integer to the right.\n",
      "numpy.ma.abs\n",
      "    Calculate the absolute value element-wise.\n",
      "numpy.ma.add\n",
      "    Add arguments element-wise.\n",
      "numpy.ma.cos\n",
      "    Cosine element-wise.\n",
      "numpy.ma.cov\n",
      "    Estimate the covariance matrix.\n",
      "numpy.ma.exp\n",
      "    Calculate the exponential of all elements in the input array.\n",
      "numpy.ma.log\n",
      "    Natural logarithm, element-wise.\n",
      "numpy.busday_count\n",
      "    Counts the number of valid days between `begindates` and\n",
      "numpy.ma.max\n",
      "    Return the maximum along a given axis.\n",
      "numpy.ma.min\n",
      "    Return the minimum along a given axis.\n",
      "numpy.ma.mod\n",
      "    Return element-wise remainder of division.\n",
      "numpy.ma.ptp\n",
      "    Return (maximum - minimum) along the given dimension\n",
      "numpy.ma.sin\n",
      "    Trigonometric sine, element-wise.\n",
      "numpy.diag_indices\n",
      "    Return the indices to access the main diagonal of an array.\n",
      "numpy.ma.tan\n",
      "    Compute tangent element-wise.\n",
      "numpy.ma.var\n",
      "    Compute the variance along the specified axis.\n",
      "numpy.floor_divide\n",
      "    Return the largest integer smaller or equal to the division of the inputs.\n",
      "numpy.fromfunction\n",
      "    Construct an array by executing a function over each coordinate.\n",
      "numpy.iscomplexobj\n",
      "    Check for a complex type or an array of complex numbers.\n",
      "numpy.mask_indices\n",
      "    Return the indices to access (n, n) arrays, given a masking function.\n",
      "numpy.nested_iters\n",
      "    Create nditers for use in nested loops\n",
      "numpy.searchsorted\n",
      "    Find indices where elements should be inserted to maintain order.\n",
      "numpy.ma.anom\n",
      "    Compute the anomalies (deviations from the arithmetic mean)\n",
      "numpy.ma.ceil\n",
      "    Return the ceiling of the input, element-wise.\n",
      "numpy.tril_indices\n",
      "    Return the indices for the lower-triangle of an (n, m) array.\n",
      "numpy.triu_indices\n",
      "    Return the indices for the upper-triangle of an (n, m) array.\n",
      "numpy.ma.cosh\n",
      "    Hyperbolic cosine, element-wise.\n",
      "numpy.ma.fabs\n",
      "    Compute the absolute values element-wise.\n",
      "numpy.ma.fmod\n",
      "    Return the element-wise remainder of division.\n",
      "numpy.ma.in1d\n",
      "    Test whether each element of an array is also present in a second\n",
      "numpy.ma.isin\n",
      "    Calculates `element in test_elements`, broadcasting over\n",
      "numpy.ma.less\n",
      "    Return the truth value of (x1 < x2) element-wise.\n",
      "numpy.ma.log2\n",
      "    Base-2 logarithm of `x`.\n",
      "numpy.busday_offset\n",
      "    First adjusts the date to fall on a valid day according to\n",
      "numpy.ma.ndim\n",
      "    Return the number of dimensions of an array.\n",
      "numpy.ma.sinh\n",
      "    Hyperbolic sine, element-wise.\n",
      "numpy.ma.size\n",
      "    Return the number of elements along a given axis.\n",
      "numpy.ma.sort\n",
      "    Sort the array, in-place\n",
      "numpy.ma.sqrt\n",
      "    Return the non-negative square-root of an array, element-wise.\n",
      "numpy.ma.tanh\n",
      "    Compute hyperbolic tangent element-wise.\n",
      "numpy.greater_equal\n",
      "    Return the truth value of (x1 >= x2) element-wise.\n",
      "numpy.nanpercentile\n",
      "    Compute the qth percentile of the data along the specified axis,\n",
      "numpy.ma.array\n",
      "    An array class with possibly masked values.\n",
      "numpy.ma.count\n",
      "    Count the non-masked elements of the array along the given axis.\n",
      "numpy.unravel_index\n",
      "    Converts a flat index or array of flat indices into a tuple\n",
      "numpy.ma.equal\n",
      "    Return (x1 == x2) element-wise.\n",
      "numpy.ma.floor\n",
      "    Return the floor of the input, element-wise.\n",
      "numpy.ma.hypot\n",
      "    Given the \"legs\" of a right triangle, return its hypotenuse.\n",
      "numpy.ma.inner\n",
      "    Inner product of two arrays.\n",
      "numpy.ma.log10\n",
      "    Return the base 10 logarithm of the input array, element-wise.\n",
      "numpy.asfortranarray\n",
      "    Return an array laid out in Fortran order in memory.\n",
      "numpy.ma.ravel\n",
      "    Returns a 1D version of self, as a view.\n",
      "numpy.ma.stack\n",
      "    Join a sequence of arrays along a new axis.\n",
      "numpy.put_along_axis\n",
      "    Put values into the destination array by matching 1d index and data slices.\n",
      "numpy.linalg.qr\n",
      "    Compute the qr factorization of a matrix.\n",
      "numpy.ma.append\n",
      "    Append values to the end of an array.\n",
      "numpy.ma.arange\n",
      "    Return evenly spaced values within a given interval.\n",
      "numpy.ma.arccos\n",
      "    Trigonometric inverse cosine, element-wise.\n",
      "numpy.ma.arcsin\n",
      "    Inverse sine, element-wise.\n",
      "numpy.ma.arctan\n",
      "    Trigonometric inverse tangent, element-wise.\n",
      "numpy.ma.argmax\n",
      "    Returns array of indices of the maximum values along the given axis.\n",
      "numpy.ma.argmin\n",
      "    Return array of indices to the minimum values along the given axis.\n",
      "numpy.ma.choose\n",
      "    Use an index array to construct a new array from a set of choices.\n",
      "numpy.ma.divide\n",
      "    Returns a true division of the inputs, element-wise.\n",
      "numpy.ma.dstack\n",
      "    dstack(tup)\n",
      "numpy.ma.filled\n",
      "    Return input as an array with masked data replaced by a fill value.\n",
      "numpy.apply_over_axes\n",
      "    Apply a function repeatedly over multiple axes.\n",
      "numpy.ma.hsplit\n",
      "    Split an array into multiple sub-arrays horizontally (column-wise).\n",
      "numpy.ma.hstack\n",
      "    hstack(tup)\n",
      "numpy.ma.median\n",
      "    Compute the median along the specified axis.\n",
      "numpy.linalg.det\n",
      "    Compute the determinant of an array.\n",
      "numpy.linalg.inv\n",
      "    Compute the (multiplicative) inverse of a matrix.\n",
      "numpy.linalg.svd\n",
      "    Singular Value Decomposition.\n",
      "numpy.set_numeric_ops\n",
      "    Set numerical operators for array objects.\n",
      "numpy.ma.arccosh\n",
      "    Inverse hyperbolic cosine, element-wise.\n",
      "numpy.ma.arcsinh\n",
      "    Inverse hyperbolic sine element-wise.\n",
      "numpy.ma.arctan2\n",
      "    Element-wise arc tangent of ``x1/x2`` choosing the quadrant correctly.\n",
      "numpy.ma.arctanh\n",
      "    Inverse hyperbolic tangent element-wise.\n",
      "numpy.ma.asarray\n",
      "    Convert the input to a masked array of the given data-type.\n",
      "numpy.ma.average\n",
      "    Return the weighted average of array over the given axis.\n",
      "numpy.take_along_axis\n",
      "    Take values from the input array by matching 1d index and data slices.\n",
      "numpy.ma.getmask\n",
      "    Return the mask of a masked array, or nomask.\n",
      "numpy.apply_along_axis\n",
      "    Apply a function to 1-D slices along the given axis.\n",
      "numpy.ma.greater\n",
      "    Return the truth value of (x1 > x2) element-wise.\n",
      "numpy.ma.maximum\n",
      "    Element-wise maximum of array elements.\n",
      "numpy.ma.minimum\n",
      "    Element-wise minimum of array elements.\n",
      "numpy.ma.polyfit\n",
      "    Least squares polynomial fit.\n",
      "numpy.matrix.all\n",
      "    Test whether all matrix elements along a given axis evaluate to True.\n",
      "numpy.matrix.any\n",
      "    Test whether any array element along a given axis evaluates to True.\n",
      "numpy.matrix.max\n",
      "    Return the maximum value along an axis.\n",
      "numpy.matrix.min\n",
      "    Return the minimum value along an axis.\n",
      "numpy.matrix.ptp\n",
      "    Peak-to-peak (maximum - minimum) value along the given axis.\n",
      "numpy.matrix.std\n",
      "    Return the standard deviation of the array elements along the given axis.\n",
      "numpy.matrix.var\n",
      "    Returns the variance of the matrix elements, along the given axis.\n",
      "numpy.linalg.norm\n",
      "    Matrix or vector norm.\n",
      "numpy.ma.compress\n",
      "    Return `a` where condition is ``True``.\n",
      "numpy.ma.corrcoef\n",
      "    Return Pearson product-moment correlation coefficients.\n",
      "numpy.fft.fftshift\n",
      "    Shift the zero-frequency component to the center of the spectrum.\n",
      "numpy.ma.fromflex\n",
      "    Build a masked array from a suitable flexible-type array.\n",
      "numpy.ascontiguousarray\n",
      "    Return a contiguous array in memory (C order).\n",
      "numpy.ma.multiply\n",
      "    Multiply arguments element-wise.\n",
      "numpy.ma.negative\n",
      "    Numerical negative, element-wise.\n",
      "numpy.ma.subtract\n",
      "    Subtract arguments, element-wise.\n",
      "numpy.matrix.getA\n",
      "    Return `self` as an `ndarray` object.\n",
      "numpy.matrix.getH\n",
      "    Returns the (complex) conjugate transpose of `self`.\n",
      "numpy.matrix.mean\n",
      "    Returns the average of the matrix elements along the given axis.\n",
      "numpy.matrix.prod\n",
      "    Return the product of the array elements over the given axis.\n",
      "numpy.ravel_multi_index\n",
      "    Converts a tuple of index arrays into an array of flat\n",
      "numpy.linalg.lstsq\n",
      "    Return the least-squares solution to a linear matrix equation.\n",
      "numpy.linalg.solve\n",
      "    Solve a linear matrix equation, or system of linear scalar equations.\n",
      "numpy.ma.conjugate\n",
      "    Return the complex conjugate, element-wise.\n",
      "numpy.triu_indices_from\n",
      "    Return the indices for the upper-triangle of arr.\n",
      "numpy.fft.ifftshift\n",
      "    The inverse of `fftshift`. Although identical for even-length `x`, the\n",
      "numpy.flatiter.copy\n",
      "    copy()\n",
      "numpy.ma.not_equal\n",
      "    Return (x1 != x2) element-wise.\n",
      "numpy.ma.remainder\n",
      "    Return element-wise remainder of division.\n",
      "numpy.ma.row_stack\n",
      "    vstack(tup)\n",
      "numpy.datetime_as_string\n",
      "    Convert an array of datetimes into an array of strings.\n",
      "numpy.ma.transpose\n",
      "    Permute the dimensions of an array.\n",
      "numpy.matlib.randn\n",
      "    Return a random matrix with data from the \"standard normal\" distribution.\n",
      "numpy.chararray.view\n",
      "    New view of array with the same data.\n",
      "numpy.matrix.getA1\n",
      "    Return `self` as a flattened `ndarray`.\n",
      "numpy.matrix.ravel\n",
      "    Return a flattened matrix.\n",
      "numpy.ma.asanyarray\n",
      "    Convert the input to a masked array, conserving subclasses.\n",
      "numpy.ma.atleast_1d\n",
      "    atleast_1d(*arys)\n",
      "numpy.ma.atleast_3d\n",
      "    atleast_3d(*arys)\n",
      "numpy.ma.bitwise_or\n",
      "    Compute the bit-wise OR of two arrays element-wise.\n",
      "numpy.ma.less_equal\n",
      "    Return the truth value of (x1 =< x2) element-wise.\n",
      "numpy.ma.logical_or\n",
      "    Compute the truth value of x1 OR x2 element-wise.\n",
      "numpy.matlib.repmat\n",
      "    Repeat a 0-D to 2-D array or matrix MxN times.\n",
      "numpy.matrix.argmax\n",
      "    Indexes of the maximum values along an axis.\n",
      "numpy.matrix.argmin\n",
      "    Indexes of the minimum values along an axis.\n",
      "numpy.matrix.tolist\n",
      "    Return the matrix as a (possibly nested) list.\n",
      "numpy.histogram_bin_edges\n",
      "    Function to calculate only the edges of the bins used by the `histogram` function.\n",
      "numpy.linalg.slogdet\n",
      "    Compute the sign and (natural) logarithm of the determinant of an array.\n",
      "numpy.ma.MaskedArray\n",
      "    An array class with possibly masked values.\n",
      "numpy.ma.bitwise_and\n",
      "    Compute the bit-wise AND of two arrays element-wise.\n",
      "numpy.ma.bitwise_xor\n",
      "    Compute the bit-wise XOR of two arrays element-wise.\n",
      "numpy.ma.concatenate\n",
      "    Concatenate a sequence of arrays along the given axis.\n",
      "numpy.ma.fix_invalid\n",
      "    Return input with invalid data masked and replaced by a fill value.\n",
      "numpy.ma.logical_and\n",
      "    Compute the truth value of x1 AND x2 element-wise.\n",
      "numpy.ma.logical_not\n",
      "    Compute the truth value of NOT x element-wise.\n",
      "numpy.ma.logical_xor\n",
      "    Compute the truth value of x1 XOR x2, element-wise.\n",
      "numpy.chararray.astype\n",
      "    Copy of the array, cast to a specified type.\n",
      "numpy.ma.true_divide\n",
      "    Returns a true division of the inputs, element-wise.\n",
      "numpy.ma.count_masked\n",
      "    Count the number of masked elements along the given axis.\n",
      "numpy.ma.floor_divide\n",
      "    Return the largest integer smaller or equal to the division of the inputs.\n",
      "numpy.ma.getmaskarray\n",
      "    Return the mask of a masked array, or full boolean array of False.\n",
      "numpy.linalg.multi_dot\n",
      "    Compute the dot product of two or more arrays in a single function call,\n",
      "numpy.linalg.tensorinv\n",
      "    Compute the 'inverse' of an N-dimensional array.\n",
      "numpy.ma.greater_equal\n",
      "    Return the truth value of (x1 >= x2) element-wise.\n",
      "numpy.ctypeslib.as_array\n",
      "    Create a numpy array from a ctypes array or POINTER.\n",
      "numpy.chararray.transpose\n",
      "    a.transpose(*axes)\n",
      "numpy.ctypeslib.ndpointer\n",
      "    Array-checking restype/argtypes.\n",
      "numpy.linalg.LinAlgError\n",
      "    Generic Python-exception-derived object raised by linalg functions.\n",
      "numpy.linalg.matrix_rank\n",
      "    Return matrix rank of array using SVD method\n",
      "numpy.linalg.tensorsolve\n",
      "    Solve the tensor equation ``a x = b`` for x.\n",
      "numpy.ma.apply_over_axes\n",
      "    Apply a function repeatedly over multiple axes.\n",
      "numpy.ma.notmasked_edges\n",
      "    Find the indices of the first and last unmasked values along an axis.\n",
      "numpy.linalg.matrix_power\n",
      "    Raise a square matrix to the (integer) power `n`.\n",
      "numpy.ma.apply_along_axis\n",
      "    Apply a function to 1-D slices along the given axis.\n",
      "numpy.ma.compress_rowcols\n",
      "    Suppress the rows and/or columns of a 2-D array that contain\n",
      "numpy.chararray.__setstate__\n",
      "    For unpickling.\n",
      "numpy.ma.notmasked_contiguous\n",
      "    Find contiguous unmasked data in a masked array along the given axis."
     ]
    }
   ],
   "source": [
    "np.lookfor('shape')"
   ]
  },
  {
   "cell_type": "code",
   "execution_count": null,
   "metadata": {},
   "outputs": [],
   "source": [
    "np.lookfor('* array')"
   ]
  },
  {
   "cell_type": "markdown",
   "metadata": {},
   "source": [
    "# Reshape & resize 함수\n",
    "\n",
    "- reshape method : data를 바꾸지 않으면서 array에 새로운 shape를 주는 함수. \n",
    "\n",
    "- resize method : 지정된 shape을 가진 새로운 array를 만드는 함수. \n",
    "\n",
    "#### reshape와 resize함수의 차이\n",
    "- reshape은 data를 바꾸지 않기 때문에 data의 갯수와 새로운 shape의 모양이 일치해야 한다.\n",
    "- 재할당을 해줘야 한다. \n",
    "- -1을 사용해서 저절로 shape을 맞출 수 있다. \n",
    "\n",
    "\n",
    "\n",
    "- resize는 숫자의 갯수가 맞지 않아도 잘라서 넣는다.\n",
    "- 할당이 따로 필요없다. \n",
    "- -1을 사용할 수 없다. "
   ]
  },
  {
   "cell_type": "markdown",
   "metadata": {},
   "source": [
    "### Reshape 함수"
   ]
  },
  {
   "cell_type": "code",
   "execution_count": null,
   "metadata": {},
   "outputs": [],
   "source": [
    "# a를 만든다. \n",
    "a = np.array([[1,2,3], [4,5,6]])\n",
    "print(a)"
   ]
  },
  {
   "cell_type": "code",
   "execution_count": null,
   "metadata": {},
   "outputs": [],
   "source": [
    "# 만약 shape의 숫자가 일치하지 않는다면, error가 난다. \n",
    "a.reshape(4,6)"
   ]
  },
  {
   "cell_type": "code",
   "execution_count": null,
   "metadata": {},
   "outputs": [],
   "source": [
    "# reshape을 해도 같은 파일을 참조하기 때문에 원소를 바꾸면 참조한\n",
    "# 파일도 바뀐다. \n",
    "b = a.reshape(3,2)\n",
    "b[0][0] = 20"
   ]
  },
  {
   "cell_type": "code",
   "execution_count": null,
   "metadata": {},
   "outputs": [],
   "source": [
    "print(\"a\")\n",
    "print(a)\n",
    "print(\"b\")\n",
    "print(b)"
   ]
  },
  {
   "cell_type": "code",
   "execution_count": 4,
   "metadata": {
    "scrolled": true
   },
   "outputs": [
    {
     "ename": "NameError",
     "evalue": "name 'a' is not defined",
     "output_type": "error",
     "traceback": [
      "\u001b[1;31m---------------------------------------------------------------------------\u001b[0m",
      "\u001b[1;31mNameError\u001b[0m                                 Traceback (most recent call last)",
      "\u001b[1;32m<ipython-input-4-d9356f96035a>\u001b[0m in \u001b[0;36m<module>\u001b[1;34m\u001b[0m\n\u001b[0;32m      1\u001b[0m \u001b[1;31m# 그래서 copy를 사용을 하면 좋다.\u001b[0m\u001b[1;33m\u001b[0m\u001b[1;33m\u001b[0m\u001b[1;33m\u001b[0m\u001b[0m\n\u001b[1;32m----> 2\u001b[1;33m \u001b[0mb\u001b[0m \u001b[1;33m=\u001b[0m \u001b[0ma\u001b[0m\u001b[1;33m.\u001b[0m\u001b[0mreshape\u001b[0m\u001b[1;33m(\u001b[0m\u001b[1;36m3\u001b[0m\u001b[1;33m,\u001b[0m\u001b[1;36m2\u001b[0m\u001b[1;33m)\u001b[0m\u001b[1;33m.\u001b[0m\u001b[0mcopy\u001b[0m\u001b[1;33m(\u001b[0m\u001b[1;33m)\u001b[0m\u001b[1;33m\u001b[0m\u001b[1;33m\u001b[0m\u001b[0m\n\u001b[0m\u001b[0;32m      3\u001b[0m \u001b[0mb\u001b[0m\u001b[1;33m[\u001b[0m\u001b[1;36m0\u001b[0m\u001b[1;33m]\u001b[0m\u001b[1;33m[\u001b[0m\u001b[1;36m0\u001b[0m\u001b[1;33m]\u001b[0m \u001b[1;33m=\u001b[0m \u001b[1;36m5\u001b[0m\u001b[1;33m\u001b[0m\u001b[1;33m\u001b[0m\u001b[0m\n\u001b[0;32m      4\u001b[0m \u001b[0mprint\u001b[0m\u001b[1;33m(\u001b[0m\u001b[0ma\u001b[0m\u001b[1;33m)\u001b[0m\u001b[1;33m\u001b[0m\u001b[1;33m\u001b[0m\u001b[0m\n\u001b[0;32m      5\u001b[0m \u001b[0mprint\u001b[0m\u001b[1;33m(\u001b[0m\u001b[0mb\u001b[0m\u001b[1;33m)\u001b[0m\u001b[1;33m\u001b[0m\u001b[1;33m\u001b[0m\u001b[0m\n",
      "\u001b[1;31mNameError\u001b[0m: name 'a' is not defined"
     ]
    }
   ],
   "source": [
    "# 그래서 copy를 사용을 하면 좋다. \n",
    "b = a.reshape(3,2).copy()\n",
    "b[0][0] = 5\n",
    "print(a)\n",
    "print(b)\n",
    "\n",
    "# 하지만 마이너스를 사용하면 저절로 값이 맞춰진다.\n",
    "# 관례상 -1을 사용한다. \n",
    "print(\"\\n\\n -1 사용\")\n",
    "b = a.reshape(-1,2)\n",
    "print(b)"
   ]
  },
  {
   "cell_type": "markdown",
   "metadata": {},
   "source": [
    "### resize 함수"
   ]
  },
  {
   "cell_type": "code",
   "execution_count": 5,
   "metadata": {},
   "outputs": [
    {
     "name": "stdout",
     "output_type": "stream",
     "text": [
      "[[ 0  1  2  3  4]\n",
      " [ 5  6  7  8  9]\n",
      " [10 11 12 13 14]] \n",
      "\n",
      "[[ 0  1  2  3  4  5  6  7  8]\n",
      " [ 9 10 11 12 13 14  0  0  0]\n",
      " [ 0  0  0  0  0  0  0  0  0]\n",
      " [ 0  0  0  0  0  0  0  0  0]\n",
      " [ 0  0  0  0  0  0  0  0  0]\n",
      " [ 0  0  0  0  0  0  0  0  0]\n",
      " [ 0  0  0  0  0  0  0  0  0]]\n"
     ]
    }
   ],
   "source": [
    "# resize함수는 재할당이 필요없다. \n",
    "# shape이 맞지 않아도 가능하다. \n",
    "a = np.arange(27)\n",
    "a.resize(3,5)\n",
    "print(a,\"\\n\")\n",
    "a.resize(7,9)\n",
    "print(a)"
   ]
  },
  {
   "cell_type": "code",
   "execution_count": 6,
   "metadata": {},
   "outputs": [
    {
     "ename": "ValueError",
     "evalue": "negative dimensions not allowed",
     "output_type": "error",
     "traceback": [
      "\u001b[1;31m---------------------------------------------------------------------------\u001b[0m",
      "\u001b[1;31mValueError\u001b[0m                                Traceback (most recent call last)",
      "\u001b[1;32m<ipython-input-6-637479bce438>\u001b[0m in \u001b[0;36m<module>\u001b[1;34m\u001b[0m\n\u001b[0;32m      1\u001b[0m \u001b[1;31m# 하지만, negative값은 받지 않는다.\u001b[0m\u001b[1;33m\u001b[0m\u001b[1;33m\u001b[0m\u001b[1;33m\u001b[0m\u001b[0m\n\u001b[1;32m----> 2\u001b[1;33m \u001b[0ma\u001b[0m\u001b[1;33m.\u001b[0m\u001b[0mresize\u001b[0m\u001b[1;33m(\u001b[0m\u001b[1;33m(\u001b[0m\u001b[1;33m-\u001b[0m\u001b[1;36m1\u001b[0m\u001b[1;33m,\u001b[0m \u001b[1;36m10\u001b[0m\u001b[1;33m)\u001b[0m\u001b[1;33m)\u001b[0m\u001b[1;33m\u001b[0m\u001b[1;33m\u001b[0m\u001b[0m\n\u001b[0m",
      "\u001b[1;31mValueError\u001b[0m: negative dimensions not allowed"
     ]
    }
   ],
   "source": [
    "# 하지만, negative값은 받지 않는다. \n",
    "a.resize((-1, 10))"
   ]
  },
  {
   "cell_type": "markdown",
   "metadata": {},
   "source": [
    "# Split\n",
    "\n",
    "#### 함수설명\n",
    "- array를 여러 sub-array로 나눈다. \n",
    "- indices_or_sections은 1-D array로 axis이다. 그래서, split은 axis를 기준으로 잘린다. \n",
    "\n",
    "#### 기타 split 함수\n",
    "hsplit : array를 horizontally하게 sub-array로 자른다. \n",
    "vsplit : array를 vertically하게 sub-array로 자른다. "
   ]
  },
  {
   "cell_type": "code",
   "execution_count": 7,
   "metadata": {},
   "outputs": [
    {
     "name": "stdout",
     "output_type": "stream",
     "text": [
      "[[ 0  1  2  3  4]\n",
      " [ 5  6  7  8  9]\n",
      " [10 11 12 13 14]\n",
      " [15 16 17 18 19]]\n"
     ]
    }
   ],
   "source": [
    "# 필요한 a를 먼저 만든다.\n",
    "a = np.arange(20)\n",
    "a.resize(4,5)\n",
    "print(a)"
   ]
  },
  {
   "cell_type": "code",
   "execution_count": 8,
   "metadata": {},
   "outputs": [
    {
     "data": {
      "text/plain": [
       "[array([[0, 1, 2, 3, 4]]),\n",
       " array([[5, 6, 7, 8, 9]]),\n",
       " array([[10, 11, 12, 13, 14],\n",
       "        [15, 16, 17, 18, 19]])]"
      ]
     },
     "execution_count": 8,
     "metadata": {},
     "output_type": "execute_result"
    }
   ],
   "source": [
    "# a를 row-wise로 2번째를 기준으로 3개의 sub-array로 나눈다. \n",
    "np.split(a, (1,2))\n",
    "\n",
    "# a를 나누면, 0번째 row를 가진 array하나, 1번째 row를 가진 array하나,\n",
    "# 마지막으로 2,3 row를 가진 array하나로 나뉜다. "
   ]
  },
  {
   "cell_type": "code",
   "execution_count": 9,
   "metadata": {},
   "outputs": [
    {
     "data": {
      "text/plain": [
       "[array([[0, 1, 2, 3, 4],\n",
       "        [5, 6, 7, 8, 9]]),\n",
       " array([], shape=(0, 5), dtype=int32),\n",
       " array([[10, 11, 12, 13, 14],\n",
       "        [15, 16, 17, 18, 19]])]"
      ]
     },
     "execution_count": 9,
     "metadata": {},
     "output_type": "execute_result"
    }
   ],
   "source": [
    "# 반으로 나눌수도 있다. \n",
    "np.split(a, (2,2))"
   ]
  },
  {
   "cell_type": "code",
   "execution_count": 10,
   "metadata": {},
   "outputs": [
    {
     "data": {
      "text/plain": [
       "[array([[0, 1, 2, 3, 4],\n",
       "        [5, 6, 7, 8, 9]]), array([[10, 11, 12, 13, 14],\n",
       "        [15, 16, 17, 18, 19]]), array([], shape=(0, 5), dtype=int32)]"
      ]
     },
     "execution_count": 10,
     "metadata": {},
     "output_type": "execute_result"
    }
   ],
   "source": [
    "# 혹은 마이너스를 사용할 수도 있다.\n",
    "np.split(a, (-2, 5))"
   ]
  },
  {
   "cell_type": "code",
   "execution_count": 11,
   "metadata": {},
   "outputs": [
    {
     "data": {
      "text/plain": [
       "[array([[ 0,  1],\n",
       "        [ 5,  6],\n",
       "        [10, 11],\n",
       "        [15, 16]]), array([], shape=(4, 0), dtype=int32), array([[ 2,  3,  4],\n",
       "        [ 7,  8,  9],\n",
       "        [12, 13, 14],\n",
       "        [17, 18, 19]])]"
      ]
     },
     "execution_count": 11,
     "metadata": {},
     "output_type": "execute_result"
    }
   ],
   "source": [
    "# row말고 column-wise로도 split을 할 수 있다. \n",
    "np.split(a, (2,2), axis=1)"
   ]
  },
  {
   "cell_type": "markdown",
   "metadata": {},
   "source": [
    "#### axis를 사용하지 않고 hsplit과 vsplit을 사용할 수 있다. "
   ]
  },
  {
   "cell_type": "code",
   "execution_count": 12,
   "metadata": {},
   "outputs": [
    {
     "data": {
      "text/plain": [
       "[array([[0, 1, 2, 3, 4],\n",
       "        [5, 6, 7, 8, 9]]),\n",
       " array([], shape=(0, 5), dtype=int32),\n",
       " array([[10, 11, 12, 13, 14],\n",
       "        [15, 16, 17, 18, 19]])]"
      ]
     },
     "execution_count": 12,
     "metadata": {},
     "output_type": "execute_result"
    }
   ],
   "source": [
    "# vsplit\n",
    "np.vsplit(a, (2,2))"
   ]
  },
  {
   "cell_type": "code",
   "execution_count": 13,
   "metadata": {},
   "outputs": [
    {
     "data": {
      "text/plain": [
       "[array([[ 0,  1],\n",
       "        [ 5,  6],\n",
       "        [10, 11],\n",
       "        [15, 16]]), array([[ 2],\n",
       "        [ 7],\n",
       "        [12],\n",
       "        [17]]), array([[ 3,  4],\n",
       "        [ 8,  9],\n",
       "        [13, 14],\n",
       "        [18, 19]])]"
      ]
     },
     "execution_count": 13,
     "metadata": {},
     "output_type": "execute_result"
    }
   ],
   "source": [
    "# hsplit\n",
    "np.hsplit(a, (2,3))"
   ]
  },
  {
   "cell_type": "markdown",
   "metadata": {},
   "source": [
    "# Stack\n",
    "\n",
    "#### 함수설명\n",
    "- 여러 array를 axis에 따라서 붙인다. \n",
    "- axis에 따라 붙인다. \n",
    "- axis가 0이면 vertically하게 붙인다. \n",
    "- axis가 1이면 \n",
    "\n",
    "#### 기타 함수\n",
    "- vstack : axis대신 vertically하게 array를 붙인다. \n",
    "- hstack : axis를 horizontally하게 array를 붙인다. \n",
    "- np.r_ : row끼리 붙인다. \n",
    "- np.c_ : column끼리 붙인다. \n",
    "- np.s_ : slicing도 지원한다. "
   ]
  },
  {
   "cell_type": "code",
   "execution_count": 14,
   "metadata": {},
   "outputs": [
    {
     "name": "stdout",
     "output_type": "stream",
     "text": [
      "[0 1 2 3 4 5 6 7 8 9]\n",
      "[0 1 2 3 4 5 6 7 8 9]\n"
     ]
    }
   ],
   "source": [
    "# array를 준비한다. \n",
    "a = np.arange(10)\n",
    "print(a)\n",
    "b = np.arange(10)\n",
    "print(b)"
   ]
  },
  {
   "cell_type": "code",
   "execution_count": 15,
   "metadata": {},
   "outputs": [
    {
     "name": "stdout",
     "output_type": "stream",
     "text": [
      "[[0 1 2 3 4 5 6 7 8 9]\n",
      " [0 1 2 3 4 5 6 7 8 9]]\n",
      "[[0 1 2 3 4 5 6 7 8 9]\n",
      " [0 1 2 3 4 5 6 7 8 9]]\n"
     ]
    }
   ],
   "source": [
    "# vertically하게 array를 붙인다. \n",
    "c = np.stack((a,b), axis=0)\n",
    "print(c)\n",
    "c = np.vstack((a,b))\n",
    "print(c)"
   ]
  },
  {
   "cell_type": "code",
   "execution_count": 16,
   "metadata": {},
   "outputs": [
    {
     "name": "stdout",
     "output_type": "stream",
     "text": [
      "[[0 0]\n",
      " [1 1]\n",
      " [2 2]\n",
      " [3 3]\n",
      " [4 4]\n",
      " [5 5]\n",
      " [6 6]\n",
      " [7 7]\n",
      " [8 8]\n",
      " [9 9]]\n",
      "[0 1 2 3 4 5 6 7 8 9 0 1 2 3 4 5 6 7 8 9]\n"
     ]
    }
   ],
   "source": [
    "# horizontally하게 array를 붙인다. \n",
    "c = np.stack((a,b), axis=1)\n",
    "print(c)\n",
    "c = np.hstack((a,b))\n",
    "print(c)"
   ]
  },
  {
   "cell_type": "code",
   "execution_count": 17,
   "metadata": {},
   "outputs": [
    {
     "name": "stdout",
     "output_type": "stream",
     "text": [
      "[0 1 2 3 4 5 6 7 8 9 0 1 2 3 4 5 6 7 8 9]\n"
     ]
    }
   ],
   "source": [
    "c = np.r_[a,b] #np.stack(axis=1)과 같다. \n",
    "print(c)"
   ]
  },
  {
   "cell_type": "code",
   "execution_count": 18,
   "metadata": {},
   "outputs": [
    {
     "name": "stdout",
     "output_type": "stream",
     "text": [
      "[[0 0]\n",
      " [1 1]\n",
      " [2 2]\n",
      " [3 3]\n",
      " [4 4]\n",
      " [5 5]\n",
      " [6 6]\n",
      " [7 7]\n",
      " [8 8]\n",
      " [9 9]]\n"
     ]
    }
   ],
   "source": [
    "c = np.c_[a,b] #np.hstack()과 같다. \n",
    "print(c)"
   ]
  },
  {
   "cell_type": "code",
   "execution_count": 19,
   "metadata": {},
   "outputs": [
    {
     "data": {
      "text/plain": [
       "array([2, 4, 6, 8])"
      ]
     },
     "execution_count": 19,
     "metadata": {},
     "output_type": "execute_result"
    }
   ],
   "source": [
    "# slcing도 가능하다. \n",
    "np.arange(1,10)[np.s_[1:8:2]]"
   ]
  },
  {
   "cell_type": "markdown",
   "metadata": {},
   "source": [
    "# Newaxis\n",
    "\n",
    "#### 함수 설명\n",
    "- slicing operation과 함께 쓰여 새로운 axis을 만들고 싶을 때 사용한다. \n",
    "- None과 같은 의미이다. \n",
    "\n",
    "\n",
    "#### 기타함수\n",
    "- expand_dims : np.newaxis처럼 axis를 추가한다. \n",
    " * 하지만, 차원을 한 단계씩 밖에 증가시키지 못한다. \n",
    " * np.expand_dims(x, axis=0) 은 x[np.newaxis, :]와 x[np.newaxis]와 같다. \n",
    " * np.expand_dims(x, axis=1)은 x[:, np.newaxis]와 같다. \n",
    "\n",
    "- swapaxes : 두개의 axes를 교환한다. "
   ]
  },
  {
   "cell_type": "code",
   "execution_count": 25,
   "metadata": {},
   "outputs": [
    {
     "name": "stdout",
     "output_type": "stream",
     "text": [
      "[0 1 2 3 4 5 6 7 8 9]\n"
     ]
    }
   ],
   "source": [
    "a = np.arange(10)\n",
    "print(a)"
   ]
  },
  {
   "cell_type": "code",
   "execution_count": 32,
   "metadata": {},
   "outputs": [
    {
     "name": "stdout",
     "output_type": "stream",
     "text": [
      "[[0 1 2 3 4 5 6 7 8 9]]\n"
     ]
    }
   ],
   "source": [
    "# 새로운 축을 하나 더 만든다.\n",
    "# 1차원에서 2차원으로 변형.\n",
    "# 차원이 하나 증가한 것을 볼 수 있다. \n",
    "print(a[np.newaxis])"
   ]
  },
  {
   "cell_type": "code",
   "execution_count": 33,
   "metadata": {
    "scrolled": true
   },
   "outputs": [
    {
     "name": "stdout",
     "output_type": "stream",
     "text": [
      "[[[0 1 2 3 4]\n",
      "  [5 6 7 8 9]]]\n"
     ]
    }
   ],
   "source": [
    "#2차원으로 바꾸고 3차원으로 변형시켜 보자. \n",
    "a.resize(2,5)\n",
    "print(a[np.newaxis])"
   ]
  },
  {
   "cell_type": "code",
   "execution_count": 35,
   "metadata": {},
   "outputs": [
    {
     "name": "stdout",
     "output_type": "stream",
     "text": [
      "[[0]\n",
      " [1]\n",
      " [2]\n",
      " [3]\n",
      " [4]\n",
      " [5]]\n",
      "[[0 1 2 3 4 5]]\n"
     ]
    }
   ],
   "source": [
    "# ::과 코마를 사용할 수도있다. (좀 더 공부 필요.)\n",
    "a = np.arange(6)\n",
    "\n",
    "print(a[:,np.newaxis])\n",
    "print(a[np.newaxis, :])"
   ]
  },
  {
   "cell_type": "code",
   "execution_count": 37,
   "metadata": {},
   "outputs": [
    {
     "name": "stdout",
     "output_type": "stream",
     "text": [
      "True\n",
      "[[0]\n",
      " [1]\n",
      " [2]\n",
      " [3]\n",
      " [4]\n",
      " [5]]\n",
      "[[0 1 2 3 4 5]]\n"
     ]
    }
   ],
   "source": [
    "# np.newaxis는 None과 같다. \n",
    "print(np.newaxis is None)\n",
    "print(a[:,None])\n",
    "print(a[None,:])"
   ]
  },
  {
   "cell_type": "code",
   "execution_count": 41,
   "metadata": {},
   "outputs": [
    {
     "name": "stdout",
     "output_type": "stream",
     "text": [
      "[[0 1 2 3 4 5]]\n",
      "[[0 1 2 3 4 5]]\n",
      "[[0 1 2 3 4 5]]\n",
      "\n",
      "\n",
      "[[0]\n",
      " [1]\n",
      " [2]\n",
      " [3]\n",
      " [4]\n",
      " [5]]\n",
      "[[0]\n",
      " [1]\n",
      " [2]\n",
      " [3]\n",
      " [4]\n",
      " [5]]\n"
     ]
    }
   ],
   "source": [
    "# np.expand_dims사용\n",
    "\n",
    "a = np.arange(6)\n",
    "print(a[np.newaxis])\n",
    "print(a[np.newaxis,:])\n",
    "print(np.expand_dims(a, 0))\n",
    "\n",
    "print(\"\\n\")\n",
    "print(a[:, np.newaxis])\n",
    "print(np.expand_dims(a,1))"
   ]
  },
  {
   "cell_type": "code",
   "execution_count": 55,
   "metadata": {},
   "outputs": [
    {
     "name": "stdout",
     "output_type": "stream",
     "text": [
      "[[0 1 2 3]\n",
      " [4 5 6 7]]\n",
      "[[0 4]\n",
      " [1 5]\n",
      " [2 6]\n",
      " [3 7]]\n"
     ]
    }
   ],
   "source": [
    "# swapaxes사용하기 : 두 개의 축을 서로 교환한다. \n",
    "a = np.arange(8)\n",
    "a.resize(2,4)\n",
    "print(a)\n",
    "print(np.swapaxes(a, 0, 1))"
   ]
  },
  {
   "cell_type": "markdown",
   "metadata": {},
   "source": [
    "# Structured array\n",
    "\n",
    "#### structured array란\n",
    "- structured array란 datatype이 여러 개의 작은 datatype으로 이루어진 ndarray이다. \n",
    "- numpy에서는 structured array를 사용해서 data field를 만들 수 있다. \n",
    "- DB의 tuple처럼 사용이 가능하다. \n",
    "\n",
    "#### namedtuple란\n",
    "- python에서 namedtuple이라는 dictionaries형태의 container를 지원한다.\n",
    "- metaclass처럼 class를 정의하지 않아도 사용이 가능하다. \n",
    "\n",
    "#### namedtuple & structured array\n",
    "- 둘다 비슷한 기능을 가지고 있다. \n",
    "- DB에서 tuple, row처럼 빠르게 사용하기 위해 사용된다. \n",
    "- disk에 올리지 않고 memory에 올리기 때문에 엄청 access가 빠르다. "
   ]
  },
  {
   "cell_type": "code",
   "execution_count": 59,
   "metadata": {},
   "outputs": [],
   "source": [
    "# structured array만드는 법.\n",
    "# np. array를 사용한다. dtype에 원하는 데이터 타입과 key를 입력한다. \n",
    "\n",
    "x = np.array([('Rex', 9, 81.0), ('Fido', 3, 27.9)], \\\n",
    "             dtype = [('name', 'U10'), ('age', 'i4'), ('weight', 'f4')])"
   ]
  },
  {
   "cell_type": "code",
   "execution_count": 60,
   "metadata": {},
   "outputs": [
    {
     "name": "stdout",
     "output_type": "stream",
     "text": [
      "[('Rex', 9, 81. ) ('Fido', 3, 27.9)]\n"
     ]
    }
   ],
   "source": [
    "print(x)"
   ]
  },
  {
   "cell_type": "code",
   "execution_count": 61,
   "metadata": {},
   "outputs": [
    {
     "name": "stdout",
     "output_type": "stream",
     "text": [
      "('Rex', 9, 81.)\n",
      "('Fido', 3, 27.9)\n",
      "Rex\n",
      "9\n"
     ]
    }
   ],
   "source": [
    "# array처럼 접근이 가능하다. \n",
    "print(x[0])\n",
    "print(x[1])\n",
    "print(x[0][0])\n",
    "print(x[0][1])"
   ]
  },
  {
   "cell_type": "code",
   "execution_count": 69,
   "metadata": {},
   "outputs": [
    {
     "data": {
      "text/plain": [
       "array(['Rex', 'Fido'], dtype='<U10')"
      ]
     },
     "execution_count": 69,
     "metadata": {},
     "output_type": "execute_result"
    }
   ],
   "source": [
    "# key방식으로 접근이 가능하다. \n",
    "x['name']"
   ]
  },
  {
   "cell_type": "code",
   "execution_count": 71,
   "metadata": {},
   "outputs": [
    {
     "ename": "AttributeError",
     "evalue": "'numpy.ndarray' object has no attribute 'name'",
     "output_type": "error",
     "traceback": [
      "\u001b[1;31m---------------------------------------------------------------------------\u001b[0m",
      "\u001b[1;31mAttributeError\u001b[0m                            Traceback (most recent call last)",
      "\u001b[1;32m<ipython-input-71-1973e4520e70>\u001b[0m in \u001b[0;36m<module>\u001b[1;34m\u001b[0m\n\u001b[0;32m      1\u001b[0m \u001b[1;31m# 하지만, attribute방식으로는 접근이 안된다.\u001b[0m\u001b[1;33m\u001b[0m\u001b[1;33m\u001b[0m\u001b[1;33m\u001b[0m\u001b[0m\n\u001b[1;32m----> 2\u001b[1;33m \u001b[0mx\u001b[0m\u001b[1;33m.\u001b[0m\u001b[0mname\u001b[0m\u001b[1;33m\u001b[0m\u001b[1;33m\u001b[0m\u001b[0m\n\u001b[0m",
      "\u001b[1;31mAttributeError\u001b[0m: 'numpy.ndarray' object has no attribute 'name'"
     ]
    }
   ],
   "source": [
    "# 하지만, attribute방식으로는 접근이 안된다. \n",
    "x.name"
   ]
  },
  {
   "cell_type": "code",
   "execution_count": 62,
   "metadata": {},
   "outputs": [],
   "source": [
    "# namedtuple 사용하는 법.\n",
    "# 먼저, namedtuple을 import한다. \n",
    "\n",
    "from collections import namedtuple"
   ]
  },
  {
   "cell_type": "code",
   "execution_count": 63,
   "metadata": {},
   "outputs": [],
   "source": [
    "Address = namedtuple(\"Address\", ('name', 'age', 'weight'))"
   ]
  },
  {
   "cell_type": "code",
   "execution_count": 64,
   "metadata": {},
   "outputs": [],
   "source": [
    "a1 = Address('Rex', 10, 25)"
   ]
  },
  {
   "cell_type": "code",
   "execution_count": 1,
   "metadata": {},
   "outputs": [
    {
     "ename": "NameError",
     "evalue": "name 'a1' is not defined",
     "output_type": "error",
     "traceback": [
      "\u001b[1;31m---------------------------------------------------------------------------\u001b[0m",
      "\u001b[1;31mNameError\u001b[0m                                 Traceback (most recent call last)",
      "\u001b[1;32m<ipython-input-1-b0b5eb9c7d26>\u001b[0m in \u001b[0;36m<module>\u001b[1;34m\u001b[0m\n\u001b[0;32m      1\u001b[0m \u001b[1;31m# a1을 dir해서 보면 name, age, weight이 있는 것을 볼 수 있다.\u001b[0m\u001b[1;33m\u001b[0m\u001b[1;33m\u001b[0m\u001b[1;33m\u001b[0m\u001b[0m\n\u001b[1;32m----> 2\u001b[1;33m \u001b[0mdir\u001b[0m\u001b[1;33m(\u001b[0m\u001b[0ma1\u001b[0m\u001b[1;33m)\u001b[0m\u001b[1;33m\u001b[0m\u001b[1;33m\u001b[0m\u001b[0m\n\u001b[0m",
      "\u001b[1;31mNameError\u001b[0m: name 'a1' is not defined"
     ]
    }
   ],
   "source": [
    "# a1을 dir해서 보면 name, age, weight이 있는 것을 볼 수 있다. \n",
    "dir(a1)"
   ]
  },
  {
   "cell_type": "code",
   "execution_count": 73,
   "metadata": {},
   "outputs": [
    {
     "data": {
      "text/plain": [
       "'Rex'"
      ]
     },
     "execution_count": 73,
     "metadata": {},
     "output_type": "execute_result"
    }
   ],
   "source": [
    "# attribute방식으로는 접근이 가능하다. \n",
    "a1.name"
   ]
  },
  {
   "cell_type": "code",
   "execution_count": 2,
   "metadata": {},
   "outputs": [
    {
     "ename": "NameError",
     "evalue": "name 'a1' is not defined",
     "output_type": "error",
     "traceback": [
      "\u001b[1;31m---------------------------------------------------------------------------\u001b[0m",
      "\u001b[1;31mNameError\u001b[0m                                 Traceback (most recent call last)",
      "\u001b[1;32m<ipython-input-2-c849ba25a27d>\u001b[0m in \u001b[0;36m<module>\u001b[1;34m\u001b[0m\n\u001b[0;32m      1\u001b[0m \u001b[1;31m# keyword방식으로는 접근이 안된다.\u001b[0m\u001b[1;33m\u001b[0m\u001b[1;33m\u001b[0m\u001b[1;33m\u001b[0m\u001b[0m\n\u001b[1;32m----> 2\u001b[1;33m \u001b[0ma1\u001b[0m\u001b[1;33m[\u001b[0m\u001b[1;34m'name'\u001b[0m\u001b[1;33m]\u001b[0m\u001b[1;33m\u001b[0m\u001b[1;33m\u001b[0m\u001b[0m\n\u001b[0m",
      "\u001b[1;31mNameError\u001b[0m: name 'a1' is not defined"
     ]
    }
   ],
   "source": [
    "# keyword방식으로는 접근이 안된다. \n",
    "a1['name']"
   ]
  },
  {
   "cell_type": "code",
   "execution_count": null,
   "metadata": {},
   "outputs": [],
   "source": []
  }
 ],
 "metadata": {
  "kernelspec": {
   "display_name": "Python 3",
   "language": "python",
   "name": "python3"
  },
  "language_info": {
   "codemirror_mode": {
    "name": "ipython",
    "version": 3
   },
   "file_extension": ".py",
   "mimetype": "text/x-python",
   "name": "python",
   "nbconvert_exporter": "python",
   "pygments_lexer": "ipython3",
   "version": "3.6.7"
  }
 },
 "nbformat": 4,
 "nbformat_minor": 2
}
