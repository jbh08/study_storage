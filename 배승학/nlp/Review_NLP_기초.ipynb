{
 "cells": [
  {
   "cell_type": "markdown",
   "metadata": {},
   "source": [
    "# NLP(Natural Language Processing)\n",
    "\n",
    "\n",
    "### What is NLP?\n",
    "- 자연어(natural language)란 우리가 일상생활에서 사용하는 언어이다. 자연어처리란 이러한 자연어를 의미 분석하여 컴퓨터가 처리할 수 있도록 하는 일이다.\n",
    "\n",
    "### why NLP is hard?\n",
    "- Language 자체가 ambiguous하다. 그래서 앞 뒤 문장을 잘 이해하고 문맥을 체크해야 하는 어려움이 있다. \n",
    "\n",
    "### NLP Applications\n",
    "- Infomration Extraction(정보추출)\n",
    "- Summarization (요약을 해주는 것)\n",
    "- machine translation (번역기)\n",
    "- 자동 질의응답 시스템\n",
    "- 대화 시스템\n",
    "\n",
    "- 한국어 텍스트를 이용하여 기초적인 NLP작업을 수행하기 위해선 KoNLPy를 사용.\n",
    "- 영어 텍스트를 다루기 위해선 NLTK를 사용. "
   ]
  },
  {
   "cell_type": "markdown",
   "metadata": {},
   "source": [
    "# nltk와 nltk data 설치\n",
    "- 자연어처리를 위해 nltk를 사용한다. 사용하기 위해 설치를 해야 한다. "
   ]
  },
  {
   "cell_type": "code",
   "execution_count": 2,
   "metadata": {},
   "outputs": [
    {
     "name": "stdout",
     "output_type": "stream",
     "text": [
      "Requirement already satisfied: nltk in c:\\users\\asus\\anaconda3\\lib\\site-packages (3.3)\n",
      "Requirement already satisfied: six in c:\\users\\asus\\anaconda3\\lib\\site-packages (from nltk) (1.11.0)\n"
     ]
    }
   ],
   "source": [
    "!pip install nltk"
   ]
  },
  {
   "cell_type": "code",
   "execution_count": 3,
   "metadata": {},
   "outputs": [],
   "source": [
    "import nltk"
   ]
  },
  {
   "cell_type": "markdown",
   "metadata": {},
   "source": [
    "# KoNLpy 설치"
   ]
  },
  {
   "cell_type": "code",
   "execution_count": 4,
   "metadata": {},
   "outputs": [
    {
     "name": "stdout",
     "output_type": "stream",
     "text": [
      "Requirement already satisfied: KoNLPy in c:\\users\\asus\\anaconda3\\lib\\site-packages (0.5.1)\n",
      "Requirement already satisfied: JPype1>=0.5.7 in c:\\users\\asus\\anaconda3\\lib\\site-packages (from KoNLPy) (0.6.3)\n"
     ]
    }
   ],
   "source": [
    "!pip install KoNLPy"
   ]
  },
  {
   "cell_type": "markdown",
   "metadata": {},
   "source": [
    "# 필요 프레임워크와 라이브러리\n",
    "\n",
    "### 텐서플로우 (Tensorflow)\n",
    "- 구글이 공개한 기계 학습 오픈소스 라이브러리.\n",
    "\n",
    "### 케라스 (Keras)\n",
    "- 딥 러닝 프레임워크인 텐서플로우에 대한 추상화된 API를 제공한다. \n",
    "\n",
    "### 넘파이 (Numpy)\n",
    "- 빠른 계산을 위해 지원되는 파이썬 라이브러리.\n",
    "\n",
    "### 사이킷런 (Scikit-learn)\n",
    "- 파이썬 머신러닝 라이브러리. \n",
    "\n",
    "### Gensim\n",
    "- 딥러닝 라이브러리"
   ]
  }
 ],
 "metadata": {
  "kernelspec": {
   "display_name": "Python 3",
   "language": "python",
   "name": "python3"
  },
  "language_info": {
   "codemirror_mode": {
    "name": "ipython",
    "version": 3
   },
   "file_extension": ".py",
   "mimetype": "text/x-python",
   "name": "python",
   "nbconvert_exporter": "python",
   "pygments_lexer": "ipython3",
   "version": "3.6.7"
  }
 },
 "nbformat": 4,
 "nbformat_minor": 2
}
