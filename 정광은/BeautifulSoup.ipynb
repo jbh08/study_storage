{
 "cells": [
  {
   "cell_type": "markdown",
   "metadata": {},
   "source": [
    "str/byte로 변환한 dom을 실제 선택가능한 dom object로 바꿔주기\n",
    "\n",
    "(1) 정규식  \n",
    "(2) beautifulsoup\n",
    "\n",
    "여기선 beautifulsoup만 해보겠음"
   ]
  },
  {
   "cell_type": "code",
   "execution_count": 89,
   "metadata": {},
   "outputs": [],
   "source": [
    "from bs4 import BeautifulSoup\n",
    "\n",
    "html = \"\"\"\n",
    "<html>\n",
    "    <head></head>\n",
    "    <body>\n",
    "        <div id=\"thisIsDiv\">This is Div\n",
    "            <p>\n",
    "                <a class=\"red\" id = \"a1\" detail = \"veryRed\">This is veryRed text</a>\n",
    "                <a class=\"red\" id = \"a2\" detail = \"darkishRed\">\n",
    "                    <a class=\"red\" id = \"a3\" detail = \"paleRed\"></a>\n",
    "                </a>\n",
    "            </p>\n",
    "        </div>\n",
    "    </body>\n",
    "</html>\n",
    "\"\"\"\n",
    "\n",
    "dom = BeautifulSoup(html, \"lxml\")"
   ]
  },
  {
   "cell_type": "markdown",
   "metadata": {},
   "source": [
    "참고로 beautifulsoup 에서 여러가지 parser를 쓸 수 있고, 이에 따라 성능이 달라지곤 하는데<br />• lxml        : 가장 빠르지만, welformed에서만 잘 작동을 함<br />• html.parser : welformed 가 아니라도 그냥저냥 작동함  `from html.parser import HTMLParser`\n",
    "\n",
    "dom객체를 select하는 다양한 방법이 있음<br />\n",
    "\n",
    "① 자식 - tag name, attribute, text로 찾기<br />\n",
    "`find(name, attrs, recursive, string, **kwargs)\n",
    " find_all(name, attrs, recursive, string, **kwargs)`<br />\n",
    "\n",
    "② 부모/형제 - 관계로 찾기<br />\n",
    "`find_parent\n",
    " find_parents\n",
    " find_next_sibling\n",
    " find_previous_sibling\n",
    " find_next_siblings\n",
    " find_previous_siblings`<br />\n",
    "\n",
    "③`dom.select`로 찾기 - select내부에서의 문법<br />\n",
    "• ID    : #<br />\n",
    "• class : .<br />\n",
    "• 자손   : 띄어쓰기<br />\n",
    "• 자식   : ><br />\n",
    "※ 참고 : select 외부에서는 . 을 찍으면 자손을 의미함"
   ]
  },
  {
   "cell_type": "code",
   "execution_count": 68,
   "metadata": {},
   "outputs": [
    {
     "data": {
      "text/plain": [
       "<a class=\"red\" detail=\"veryRed\" id=\"a1\">This is veryRed text</a>"
      ]
     },
     "execution_count": 68,
     "metadata": {},
     "output_type": "execute_result"
    }
   ],
   "source": [
    "# ① find - tag name\n",
    "dom.div.p.find('a')"
   ]
  },
  {
   "cell_type": "code",
   "execution_count": 55,
   "metadata": {},
   "outputs": [
    {
     "data": {
      "text/plain": [
       "<a class=\"red\" detail=\"veryRed\" id=\"a1\">This is veryRed text</a>"
      ]
     },
     "execution_count": 55,
     "metadata": {},
     "output_type": "execute_result"
    }
   ],
   "source": [
    "# ① find - attribute\n",
    "dom.find('a', {\"class\" : \"red\", \"id\" : \"a2\"}).find_previous_sibling()"
   ]
  },
  {
   "cell_type": "code",
   "execution_count": 57,
   "metadata": {},
   "outputs": [
    {
     "data": {
      "text/plain": [
       "<a class=\"red\" detail=\"veryRed\" id=\"a1\">This is veryRed text</a>"
      ]
     },
     "execution_count": 57,
     "metadata": {},
     "output_type": "execute_result"
    }
   ],
   "source": [
    "# ① find - text\n",
    "dom.find('a',text='This is veryRed text')"
   ]
  },
  {
   "cell_type": "code",
   "execution_count": 69,
   "metadata": {},
   "outputs": [
    {
     "data": {
      "text/plain": [
       "[<a class=\"red\" detail=\"darkishRed\" id=\"a2\">\n",
       " </a>]"
      ]
     },
     "execution_count": 69,
     "metadata": {},
     "output_type": "execute_result"
    }
   ],
   "source": [
    "dom.select(\"a#a2\")"
   ]
  },
  {
   "cell_type": "code",
   "execution_count": 71,
   "metadata": {},
   "outputs": [
    {
     "data": {
      "text/plain": [
       "[<div id=\"thisIsDiv\">\n",
       " <p>\n",
       " <a class=\"red\" detail=\"veryRed\" id=\"a1\">This is veryRed text</a>\n",
       " <a class=\"red\" detail=\"darkishRed\" id=\"a2\">\n",
       " </a><a class=\"red\" detail=\"paleRed\" id=\"a3\"></a>\n",
       " </p>\n",
       " </div>]"
      ]
     },
     "execution_count": 71,
     "metadata": {},
     "output_type": "execute_result"
    }
   ],
   "source": [
    "dom.select(\"div#thisIsDiv\")"
   ]
  },
  {
   "cell_type": "code",
   "execution_count": 44,
   "metadata": {},
   "outputs": [
    {
     "data": {
      "text/plain": [
       "[<p>\n",
       " <a class=\"red\" detail=\"veryRed\" id=\"1\">This is veryRed text</a>\n",
       " <a class=\"red\" detail=\"darkishRed\" id=\"2\">\n",
       " </a><a class=\"red\" detail=\"paleRed\" id=\"3\"></a>\n",
       " </p>]"
      ]
     },
     "execution_count": 44,
     "metadata": {},
     "output_type": "execute_result"
    }
   ],
   "source": [
    "dom.select(\"body p\")"
   ]
  },
  {
   "cell_type": "code",
   "execution_count": 43,
   "metadata": {},
   "outputs": [
    {
     "data": {
      "text/plain": [
       "[<p>\n",
       " <a class=\"red\" detail=\"veryRed\" id=\"1\">This is veryRed text</a>\n",
       " <a class=\"red\" detail=\"darkishRed\" id=\"2\">\n",
       " </a><a class=\"red\" detail=\"paleRed\" id=\"3\"></a>\n",
       " </p>]"
      ]
     },
     "execution_count": 43,
     "metadata": {},
     "output_type": "execute_result"
    }
   ],
   "source": [
    "dom.select(\"div>p\")"
   ]
  },
  {
   "cell_type": "code",
   "execution_count": 74,
   "metadata": {},
   "outputs": [],
   "source": [
    "# dom.select(\".rc > .r a\") 요기선 안되는데 이런 복잡한 것도..."
   ]
  },
  {
   "cell_type": "code",
   "execution_count": 87,
   "metadata": {},
   "outputs": [
    {
     "name": "stdout",
     "output_type": "stream",
     "text": [
      "----------1--------------\n",
      "쉐이크쉑\n",
      "----------2--------------\n",
      "쉐이크 쉑 - 나무위키\n",
      "----------3--------------\n",
      "Shake Shack Korea - 쉐이크쉑 - 홈 | Facebook\n",
      " \n",
      " \n",
      "박보영 - 위키백과, 우리 모두의 백과사전\n",
      "박보영의 작품 목록 - 위키백과, 우리 모두의 백과사전\n",
      "박보영은 오래 지켜본다. 연애도, 연기 변신도 - 중앙일보\n",
      "#박보영 hashtag on Twitter\n",
      "박보영 - Daum 영화\n",
      "전체글 - 박보영 공식 팬카페 _ 뽀르테 - Daum 카페\n",
      "박보영, tvN 드라마 '어비스' 여주인공 - MSN.com\n",
      "'너의 결혼식' → '어비스' 박보영, 근황 살펴보니…“여전히 뽀블리”\n",
      " \n",
      " \n",
      "----------1--------------\n",
      "'바람이분다' 김하늘, 감우성 초콜릿 특허 되찾았다 [결정적장면]\n",
      "----------2--------------\n",
      "하지원, “드라마 초콜릿 촬영중..\n",
      "----------3--------------\n",
      "털실무스케이크 얼그레이 맛 vs 다크초콜릿 맛, 용산의 명소(생활의...\n",
      "----------4--------------\n",
      "[EBS 금요극장] 영화 '초콜릿'\n",
      "----------5--------------\n",
      "[6/20일 수달이가 물어온] 초콜릿색을 띈!!!\"초코오징어...\n",
      "----------6--------------\n",
      "이강인 초콜릿 논란 밝혀짐 ㅋㅋㅋㅋ\n",
      "----------7--------------\n",
      "초보도 쉽게 만들수 있는 '초콜릿 휘낭시에' (+영상레시피)\n",
      "----------8--------------\n",
      "사 온 발렌타인 데이 초콜릿 아빠가 실수로 먹었는데...\n",
      "----------9--------------\n",
      "트로피코6 초콜릿 공장\n",
      "----------10--------------\n",
      "리터스포트 미니 초콜릿♪\n",
      "----------11--------------\n",
      "진한 초콜릿 파운드케이크\n",
      "----------12--------------\n",
      "수제초콜릿, 김보람초콜릿\n",
      " \n",
      " \n",
      "--------count = 0------------\n",
      "https://search.pstatic.net/common/?src=http%3A%2F%2Fcafefiles.naver.net%2FMjAxOTA0MjlfMjIz%2FMDAxNTU2NTA1MzUxOTgy.j77FNHqqULxuSGllHJOkuVZdSfHenyON92Qrgv2w5g4g.RMZVDuSCGtnaj_BMRT9YqywNas0wwihcWF_JVSHQGSsg.JPEG.gtgbzkpg%2F03.19531196.1.jpg&type=b400\n",
      "--------count = 1------------\n",
      "https://search.pstatic.net/common/?src=http%3A%2F%2Fimgnews.naver.net%2Fimage%2F241%2F2018%2F07%2F23%2F0002811035_003_20180723133029877.jpeg&type=b400\n",
      "--------count = 2------------\n",
      "https://search.pstatic.net/common/?src=http%3A%2F%2Fblogfiles.naver.net%2Fdata44%2F2009%2F5%2F25%2F259%2F13_focet55.jpg&type=b400\n",
      "--------count = 3------------\n",
      "https://search.pstatic.net/common/?src=http%3A%2F%2Fblogfiles.naver.net%2FMjAxODA3MDRfMTkx%2FMDAxNTMwNjY2OTg4MjQ3.jGIjWJ2Q48xxoz37vJRZDsL3hPkRyYeU8yMeB_rS1KQg.YldJcuFtuDxDeyHf4q8WAKjE-jOqa4IsVgylD1nh4PYg.JPEG.js2y86%2F%25BB%25CD%25BC%25F6%25B4%25CF10.jpg&type=b400\n",
      "--------count = 4------------\n",
      "https://search.pstatic.net/common/?src=http%3A%2F%2Fblogfiles.naver.net%2FMjAxNzA2MjhfMTgw%2FMDAxNDk4NjQ1MTg1ODY4.VKK1HJswdorX_b2-9KeNjZB73DCU_cUqY4FeK-1XOsog.MCV28qkWLG75CEVvxDW2A0uIub2IMc99TRHc906TK4gg.JPEG.hitemit%2Fdaum_gallery_photo_20170628191654.jpg&type=b400\n",
      "--------count = 5------------\n",
      "https://search.pstatic.net/common/?src=http%3A%2F%2Fimgnews.naver.net%2Fimage%2F311%2F2018%2F07%2F24%2F0000879924_003_20180724061045914.jpg&type=b400\n",
      "--------count = 6------------\n",
      "https://search.pstatic.net/common/?src=http%3A%2F%2Fcafefiles.naver.net%2F20150915_126%2Flake1790_1442291912047B2l0c_JPEG%2F%25B9%25DA%25BA%25B8%25BF%25B5_%25B6%25D1%25BE%25C6.jpg&type=b400\n",
      "--------count = 7------------\n",
      "https://search.pstatic.net/common/?src=http%3A%2F%2Fblogfiles.naver.net%2FMjAxNjExMTRfMjM2%2FMDAxNDc5MDg3MzM2Njc5.xiLlEeoW4MhEQixwVFVF1r5bAM3muCtoMs4kpMJA1xMg.6GVmaKMrx27Cpx9ZT2X5Md8Wq-1gwnivPGYFWdJl_rEg.PNG.gooddaysoju_official%2F%25C1%25C1%25C0%25BA%25B5%25A5%25C0%25CC1114_%25B9%25DA%25BA%25B8%25BF%25B5_%25C8%25AD%25BA%25B8%25C3%25D4%25BF%25B5%25C7%25F6%25C0%25E5_12.png&type=b400\n",
      "--------count = 8------------\n",
      "https://search.pstatic.net/common/?src=http%3A%2F%2Fimgnews.naver.net%2Fimage%2F5268%2F2013%2F12%2F30%2F916765_0-500759_55650_59_20131230124201.JPG&type=b400\n",
      "--------count = 9------------\n",
      "https://search.pstatic.net/common/?src=http%3A%2F%2Fblogfiles.naver.net%2FMjAxODA2MDhfMTg3%2FMDAxNTI4NDQ4OTQxOTg3.ca0_uDXieBBLX5FKN7OjvZgUhF_CJpV_ItyrCmO2kUkg.MqsxQWaPj3DZ4OJp5MoLq5XcfpVhm8EdCM1IfiM4XtEg.JPEG.lbh2000%2FA63K0230.jpg&type=b400\n",
      "--------count = 10------------\n",
      "https://search.pstatic.net/common/?src=http%3A%2F%2Fimgnews.naver.net%2Fimage%2F117%2F2018%2F08%2F07%2F201808071705271356_1_20180807180026299.jpg&type=b400\n",
      "--------count = 11------------\n",
      "https://search.pstatic.net/common/?src=http%3A%2F%2Fimgnews.naver.net%2Fimage%2F109%2F2019%2F05%2F03%2F0004002600_001_20190503164807150.jpg&type=b400\n",
      "--------count = 12------------\n",
      "https://search.pstatic.net/common/?src=http%3A%2F%2Fkinimage.naver.net%2F20180218_2%2F15189565722950tPdL_PNG%2F%25B9%25DA%25BA%25B8%25BF%25B5_%25C6%25F9_%25B9%25E8%25B0%25E6%25C8%25AD%25B8%25E9_007.png&type=b400\n",
      "--------count = 13------------\n",
      "https://search.pstatic.net/common/?src=http%3A%2F%2Fblogfiles.naver.net%2F20151123_294%2Fqazwsx2002_1448267050877YoOxi_JPEG%2F001.jpg&type=b400\n",
      "--------count = 14------------\n",
      "https://search.pstatic.net/common/?src=http%3A%2F%2Fblogfiles.naver.net%2F20131111_212%2Fpapa77ma_1384121301256kovyM_JPEG%2F%25A2%25BD%25B9%25DA%25BA%25B8%25BF%25B5%25A2%25BD.jpg&type=b400\n",
      "--------count = 15------------\n",
      "https://search.pstatic.net/common/?src=http%3A%2F%2Fcafefiles.naver.net%2FMjAxODA4MjVfNzMg%2FMDAxNTM1MTUyNTA2NjIz.9WmWrs1RFzAME5zrRwCvMUCqH5XRJ0f0BKlPKII-qZIg.__LJPkyzaPsbnrBIu-IHQmf21yzEF2k7hNy2cxdBWfgg.JPEG.hellorang17%2F%25B9%25DA%25BA%25B8%25BF%25B5_%25B8%25F8%25BB%25FD%25B0%25DC%25BC%25AD_%25B9%25CC%25BE%25C8%25C7%25CF%25B4%25D9_8.jpg&type=b400\n",
      "--------count = 16------------\n",
      "https://search.pstatic.net/common/?src=http%3A%2F%2Fimgnews.naver.net%2Fimage%2F213%2F2019%2F05%2F03%2F0001103211_005_20190503145007054.jpg&type=b400\n",
      "--------count = 17------------\n",
      "https://search.pstatic.net/common/?src=http%3A%2F%2Fimgnews.naver.net%2Fimage%2F5575%2F2019%2F03%2F03%2F0000033175_001_20190303115605887.jpg&type=b400\n",
      "--------count = 18------------\n",
      "https://search.pstatic.net/common/?src=http%3A%2F%2Fimgnews.naver.net%2Fimage%2F312%2F2019%2F05%2F03%2F0000385926_001_20190503152507010.jpg&type=b400\n",
      "--------count = 19------------\n",
      "https://search.pstatic.net/common/?src=http%3A%2F%2Fpost.phinf.naver.net%2FMjAxOTA0MDFfMTAy%2FMDAxNTU0MDk2NzA0MTM0.WM3ecyrny0oaI9FtcrKtSARo1OzDdFcP73o3chflwPcg.YtrD7fnG5XhWDt9H7ItoQz964csao1gDh_7IYAIBn2Ig.JPEG%2FIMruxwPw0uomtnh6_Ut-2nDvT_h0.jpg&type=b400\n",
      "--------count = 20------------\n",
      "https://search.pstatic.net/common/?src=http%3A%2F%2Fimgnews.naver.net%2Fimage%2F5349%2F2018%2F08%2F07%2F1533628848_205383_20180807165840982.jpg&type=b400\n",
      "--------count = 21------------\n",
      "https://search.pstatic.net/common/?src=http%3A%2F%2Fimgnews.naver.net%2Fimage%2F5454%2F2019%2F03%2F26%2F0000004198_002_20190326104808252.jpg&type=b400\n",
      "--------count = 22------------\n",
      "https://search.pstatic.net/common/?src=http%3A%2F%2Fimgnews.naver.net%2Fimage%2F609%2F2019%2F04%2F29%2F201904291229405510_2_20190429123014048.jpg&type=b400\n",
      "--------count = 23------------\n",
      "https://search.pstatic.net/common/?src=https%3A%2F%2Fphinf.pstatic.net%2Ftvcast%2F20180823_97%2F7AbLf_1534989707099rBIu4_PNG%2Fzf8rcG9madjv.png&type=b400\n",
      "--------count = 24------------\n",
      "https://search.pstatic.net/common/?src=http%3A%2F%2Fimgnews.naver.net%2Fimage%2F311%2F2018%2F07%2F26%2F0000881291_002_20180726205533782.jpg&type=b400\n",
      "--------count = 25------------\n",
      "https://search.pstatic.net/common/?src=http%3A%2F%2Fimgnews.naver.net%2Fimage%2F5503%2F2019%2F06%2F25%2F0000030512_001_20190625145841663.JPG&type=b400\n",
      "--------count = 26------------\n",
      "https://search.pstatic.net/common/?src=http%3A%2F%2Fimgnews.naver.net%2Fimage%2F076%2F2018%2F08%2F09%2F2018081001000825000059711_20180809115327017.jpg&type=b400\n",
      "--------count = 27------------\n",
      "https://search.pstatic.net/sunny/?src=http%3A%2F%2Fpds.joins.com%2Fnews%2Fcomponent%2Fhtmlphoto_mmdata%2F201904%2F29%2Fhtm_20190429155453956048.jpg&type=b400\n",
      "--------count = 28------------\n",
      "https://search.pstatic.net/common/?src=http%3A%2F%2Fpost.phinf.naver.net%2FMjAxOTA0MjlfMTA3%2FMDAxNTU2NTA0MzA2MzE4.0UAFhPY7p0odl0sTrtap8gh1ti63KbjaCRERw_8qyzwg.lheAC4SgbJ26pQtbPEoLpKq8f5QIPUtpMnz850vzzWMg.JPEG%2FIMBvaNWUWeK6v2onENvaworTmtAE.jpg&type=b400\n",
      "--------count = 29------------\n",
      "https://search.pstatic.net/common/?src=http%3A%2F%2Fimgnews.naver.net%2Fimage%2F5362%2F2019%2F04%2F29%2F201930881556504977_20190429114222255.jpg&type=b400\n",
      "--------count = 30------------\n",
      "https://search.pstatic.net/common/?src=http%3A%2F%2Fimgnews.naver.net%2Fimage%2F5043%2F2012%2F10%2F30%2F2012103015504813_59_20121030092011.jpg&type=b400\n",
      "--------count = 31------------\n",
      "https://search.pstatic.net/common/?src=http%3A%2F%2Fimgnews.naver.net%2Fimage%2F5339%2F2018%2F12%2F07%2F2018120636294797_20181207000910239.jpg&type=b400\n",
      "--------count = 32------------\n",
      "https://search.pstatic.net/common/?src=http%3A%2F%2Fimgnews.naver.net%2Fimage%2F5567%2F2019%2F06%2F25%2F0000008181_001_20190625110648024.jpg&type=b400\n",
      "--------count = 33------------\n",
      "https://search.pstatic.net/common/?src=http%3A%2F%2Fimgnews.naver.net%2Fimage%2F469%2F2019%2F04%2F22%2F0000382447_001_20190423045816079.jpg&type=b400\n",
      "--------count = 34------------\n",
      "https://search.pstatic.net/common/?src=http%3A%2F%2Fimgnews.naver.net%2Fimage%2F112%2F2019%2F05%2F28%2F201905282207245443380_20190528224138_01_20190528224209210.jpg&type=b400\n",
      "--------count = 35------------\n",
      "https://search.pstatic.net/common/?src=http%3A%2F%2Fimgnews.naver.net%2Fimage%2F382%2F2019%2F05%2F03%2F0000729116_001_20190503153611843.jpg&type=b400\n",
      "--------count = 36------------\n",
      "https://search.pstatic.net/common/?src=http%3A%2F%2Fimgnews.naver.net%2Fimage%2F5696%2F2019%2F06%2F12%2F0000014463_001_20190612155651670.jpg&type=b400\n",
      "--------count = 37------------\n",
      "https://search.pstatic.net/common/?src=http%3A%2F%2Fimgnews.naver.net%2Fimage%2F117%2F2019%2F06%2F04%2F201906041529224634_1_20190604153311103.jpg&type=b400\n",
      "--------count = 38------------\n",
      "https://search.pstatic.net/common/?src=http%3A%2F%2Fimgnews.naver.net%2Fimage%2F5575%2F2019%2F05%2F04%2F0000042593_001_20190504202221714.jpg&type=b400\n",
      "--------count = 39------------\n",
      "https://search.pstatic.net/common/?src=http%3A%2F%2Fimgnews.naver.net%2Fimage%2F609%2F2019%2F06%2F24%2F201906241301272410_2_20190624130727191.jpg&type=b400\n",
      "--------count = 40------------\n",
      "https://search.pstatic.net/common/?src=http%3A%2F%2Fimgnews.naver.net%2Fimage%2F5092%2F2011%2F06%2F20%2F1308560965_600.jpg&type=b400\n",
      "--------count = 41------------\n",
      "https://search.pstatic.net/common/?src=http%3A%2F%2Fimgnews.naver.net%2Fimage%2F5567%2F2019%2F05%2F29%2F0000007370_001_20190529103635685.jpg&type=b400\n",
      "--------count = 42------------\n",
      "https://search.pstatic.net/common/?src=http%3A%2F%2Fimgnews.naver.net%2Fimage%2F015%2F2019%2F06%2F11%2F0004156850_001_20190611134604695.jpg&type=b400\n",
      "--------count = 43------------\n",
      "https://search.pstatic.net/common/?src=http%3A%2F%2Fimgnews.naver.net%2Fimage%2F109%2F2008%2F10%2F27%2F200810271211252300_1.jpg&type=b400\n",
      "--------count = 44------------\n",
      "https://search.pstatic.net/common/?src=http%3A%2F%2Fimgnews.naver.net%2Fimage%2F468%2F2019%2F06%2F09%2F0000517985_001_20190609094022835.jpg&type=b400\n",
      "--------count = 45------------\n",
      "https://search.pstatic.net/common/?src=http%3A%2F%2Fimgnews.naver.net%2Fimage%2F144%2F2015%2F09%2F16%2Fl_2015091602001330300222841_99_20150916141402.jpg&type=b400\n",
      "--------count = 46------------\n",
      "https://search.pstatic.net/common/?src=http%3A%2F%2Fimgnews.naver.net%2Fimage%2F468%2F2019%2F05%2F19%2F0000509577_001_20190519134517159.jpg&type=b400\n",
      "--------count = 47------------\n",
      "https://search.pstatic.net/common/?src=http%3A%2F%2Fimgnews.naver.net%2Fimage%2F5138%2F2011%2F04%2F04%2F201104040931099660385-2-25339.jpg&type=b400\n",
      "--------count = 48------------\n",
      "https://search.pstatic.net/common/?src=http%3A%2F%2Fimgnews.naver.net%2Fimage%2F5090%2F2013%2F02%2F17%2F20130217000088_0_59_20130217140812.jpg&type=b400\n",
      "--------count = 49------------\n",
      "https://search.pstatic.net/common/?src=http%3A%2F%2Fimgnews.naver.net%2Fimage%2F108%2F2008%2F12%2F16%2F2008121610173266362_1.jpg&type=b400\n"
     ]
    }
   ],
   "source": [
    "import requests\n",
    "import time\n",
    "from bs4 import BeautifulSoup\n",
    "\n",
    "headers = {'user-agent':\"Mozilla/5.0 (Macintosh; Intel Mac OS X 10_14_5) AppleWebKit/537.36 (KHTML, like Gecko) Chrome/73.0.3683.103 Safari/537.36\"}\n",
    "def download(method, url, params=None, data=None, timeout=60, maxretry=3):\n",
    "    try:            \n",
    "        resp = requests.request(method, url, params=params, data=data, headers=headers) \n",
    "        resp.raise_for_status()\n",
    "    except requests.exceptions.HTTPError as e:\n",
    "        if 500 <= e.response.status_code < 600 and maxtries > 0:\n",
    "            time.sleep(timeout)\n",
    "            download(method, url, params, data, timeout, maxretry-1)\n",
    "        else:      \n",
    "            print(e.response.status_code)\n",
    "            print(e.response.reason)\n",
    "    return resp\n",
    "\n",
    "# 네이버 - 쉐이크쉑 검색결과 가져옴\n",
    "url = \"https://search.naver.com/search.naver?sm=tab_hty.top&where=nexearch&query=%EC%89%90%EC%9D%B4%ED%81%AC%EC%89%91&oquery=%EB%B0%95%EB%B3%B4%EC%98%81&tqi=UflIysprvN8ssZLPg30ssssstsd-205107\"\n",
    "html = download('get', url)\n",
    "dom = BeautifulSoup(html.text, \"lxml\")\n",
    "count = 0\n",
    "for row in dom.select('a.title_link'):\n",
    "    count += 1\n",
    "    print(f\"----------{count}--------------\")\n",
    "    print(row.text)\n",
    "    \n",
    "print(\" \")\n",
    "print(\" \")\n",
    "\n",
    "# 구글 - 박보영\n",
    "url = \"https://www.google.com/search?q=%EB%B0%95%EB%B3%B4%EC%98%81&rlz=1C5CHFA_enKR841KR841&oq=%EB%B0%95%EB%B3%B4%EC%98%81&aqs=chrome..69i57j69i59j0l4.1851j0j7&sourceid=chrome&ie=UTF-8\"\n",
    "html = download('get', url)\n",
    "dom = BeautifulSoup(html.text, \"lxml\")\n",
    "for row in dom.select('h3.LC20lb'):\n",
    "    print(row.text)\n",
    "    \n",
    "print(\" \")\n",
    "print(\" \")    \n",
    "\n",
    "# 다음 - 초콜릿\n",
    "url = \"https://search.daum.net/search?w=tot&DA=YZR&t__nil_searchbox=btn&sug=&sugo=&q=%EC%B4%88%EC%BD%9C%EB%A6%BF\"\n",
    "html = download('get', url)\n",
    "dom = BeautifulSoup(html.text, \"lxml\")\n",
    "count = 0\n",
    "for row in dom.select('a.f_link_b'):\n",
    "    count += 1\n",
    "    print(f\"----------{count}--------------\")\n",
    "    print(row.text)\n",
    "\n",
    "print(\" \")\n",
    "print(\" \")\n",
    "\n",
    "# 네이버 - 이미지검색의 링크들\n",
    "url = \"https://search.naver.com/search.naver?sm=tab_hty.top&where=image&query=%EB%B0%95%EB%B3%B4%EC%98%81&oquery=%EB%B0%95%EB%B3%B4%EC%98%81%E3%85%87&tqi=Ufloswp0J1sss4H9k5KssssstWl-350369\"\n",
    "html = download('get', url)\n",
    "dom = BeautifulSoup(html.text, \"lxml\")\n",
    "count = 0\n",
    "for row in dom.find_all(\"a\", {\"class\":\"thumb _thumb\"}):\n",
    "    print(f\"--------count = {count}------------\")\n",
    "    print(row.find_all(\"img\")[0][\"data-source\"])\n",
    "    count+=1\n",
    "    \n",
    "# 물론 정규식으로도 가능함\n",
    "import re\n",
    "re.findall('<img src=\".+?\" class=\"_img\" alt = \"(.+?)\" onerror=\".+?\" data-source=\"(.+?)\" data-width=\"\\d+?\" data-height=\"/d+\">',html.text)\n"
   ]
  },
  {
   "cell_type": "code",
   "execution_count": null,
   "metadata": {},
   "outputs": [],
   "source": []
  }
 ],
 "metadata": {
  "kernelspec": {
   "display_name": "Python 3",
   "language": "python",
   "name": "python3"
  },
  "language_info": {
   "codemirror_mode": {
    "name": "ipython",
    "version": 3
   },
   "file_extension": ".py",
   "mimetype": "text/x-python",
   "name": "python",
   "nbconvert_exporter": "python",
   "pygments_lexer": "ipython3",
   "version": "3.7.3"
  }
 },
 "nbformat": 4,
 "nbformat_minor": 2
}
